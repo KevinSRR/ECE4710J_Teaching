{
 "cells": [
  {
   "cell_type": "markdown",
   "metadata": {},
   "source": []
  },
  {
   "cell_type": "markdown",
   "metadata": {},
   "source": [
    "<img src=\"./assets/df.png\" style=\"zoom:70%\" />"
   ]
  }
 ],
 "metadata": {
  "interpreter": {
   "hash": "fa0bcc37cb1d53a5ae18050bdae53d79e821dde74f36703fee7d6ffe11c2adc2"
  },
  "kernelspec": {
   "display_name": "Python 3.7.12 ('basicdl')",
   "language": "python",
   "name": "python3"
  },
  "language_info": {
   "codemirror_mode": {
    "name": "ipython",
    "version": 3
   },
   "file_extension": ".py",
   "mimetype": "text/x-python",
   "name": "python",
   "nbconvert_exporter": "python",
   "pygments_lexer": "ipython3",
   "version": "3.7.12"
  },
  "orig_nbformat": 4
 },
 "nbformat": 4,
 "nbformat_minor": 2
}
