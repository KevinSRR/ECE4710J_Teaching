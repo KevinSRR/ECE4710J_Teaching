{
 "cells": [
  {
   "cell_type": "markdown",
   "metadata": {},
   "source": [
    "# RC II\n",
    "\n",
    "---\n",
    "ECE4710J  2022SP\n",
    "\n",
    "Materials collected by Sizhe Zhou. Credit to all the related online resources and the usage of this notebook is limited to education purpose. \n",
    "\n",
    "Mar. 24th, 2022\n",
    "\n",
    "---\n",
    "\n",
    "Note that below we will only give you a very, very shallow intro to only part of the SQL usage since it's not covered in our lecture and the requirement on you is just ``introduction''."
   ]
  },
  {
   "cell_type": "markdown",
   "metadata": {},
   "source": [
    "# 1. Python MySQL\n",
    "\n",
    "To be able to experiment with the code examples in this tutorial, you should have MySQL installed on your computer.\n",
    "\n",
    "You can download a free MySQL database at https://www.mysql.com/downloads/.\n",
    "\n",
    "\n",
    "## 1.1 Get Started\n",
    "For Windows system, you can try `net start servername` and `net stop servername` to start and stop the MySQL server respectively.\n",
    "### 1.1.1 Install MySQL Driver\n",
    "\n",
    "Python needs a MySQL driver to access the MySQL database.\n",
    "\n",
    "In this tutorial we will use the driver \"MySQL Connector\".\n",
    "\n",
    "We recommend that you use PIP to install \"MySQL Connector\".\n",
    "\n",
    "PIP is most likely already installed in your Python environment.\n",
    "\n",
    "Navigate your command line to the location of PIP, and type the following:\n",
    "\n",
    "Download and install \"MySQL Connector\":\n",
    "\n",
    "`C:\\Users\\Your Name\\AppData\\Local\\Programs\\Python\\Python36-32\\Scripts>python -m pip install mysql-connector-python`\n",
    "\n",
    "Now you have downloaded and installed a MySQL driver.\n",
    "\n",
    "### 1.1.2 Test MySQL Connector\n",
    "To test if the installation was successful, or if you already have \"MySQL Connector\" installed, try:\n"
   ]
  },
  {
   "cell_type": "code",
   "execution_count": 3,
   "metadata": {},
   "outputs": [],
   "source": [
    "import mysql.connector"
   ]
  },
  {
   "cell_type": "markdown",
   "metadata": {},
   "source": [
    "If the above code was executed with no errors, \"MySQL Connector\" is installed and ready to be used.\n"
   ]
  },
  {
   "cell_type": "markdown",
   "metadata": {},
   "source": [
    "### 1.1.3 Create Connection\n",
    "\n",
    "Start by creating a connection to the database.\n",
    "\n",
    "Use the username and password from your MySQL database:"
   ]
  },
  {
   "cell_type": "markdown",
   "metadata": {},
   "source": [
    "Now you can start querying the database using SQL statements."
   ]
  },
  {
   "cell_type": "code",
   "execution_count": 5,
   "metadata": {},
   "outputs": [
    {
     "name": "stdout",
     "output_type": "stream",
     "text": [
      "<mysql.connector.connection_cext.CMySQLConnection object at 0x00000249CAA091F0>\n"
     ]
    }
   ],
   "source": [
    "import mysql.connector\n",
    "\n",
    "mydb = mysql.connector.connect(\n",
    "  host=\"localhost\",\n",
    "  user=\"sizhezhou\",\n",
    "  password=\"sizhezhou\"\n",
    ")\n",
    "\n",
    "print(mydb)"
   ]
  },
  {
   "cell_type": "markdown",
   "metadata": {},
   "source": [
    "## 1.2 Creating a Database\n",
    "\n",
    "### 1.2.1 Creating a Database\n",
    "To create a database in MySQL, use the \"CREATE DATABASE\" statement:\n"
   ]
  },
  {
   "cell_type": "code",
   "execution_count": 7,
   "metadata": {},
   "outputs": [],
   "source": [
    "import mysql.connector\n",
    "\n",
    "mydb = mysql.connector.connect(\n",
    "  host=\"localhost\",\n",
    "  user=\"sizhezhou\",\n",
    "  password=\"sizhezhou\"\n",
    ")\n",
    "\n",
    "mycursor = mydb.cursor()\n",
    "\n",
    "mycursor.execute(\"CREATE DATABASE mydatabase1\")"
   ]
  },
  {
   "cell_type": "markdown",
   "metadata": {},
   "source": [
    "If the above code was executed with no errors, you have successfully created a database.\n",
    "\n",
    "### 1.2.2 Check if Database Exists\n",
    "\n",
    "You can check if a database exist by listing all databases in your system by using the \"SHOW DATABASES\" statement:"
   ]
  },
  {
   "cell_type": "code",
   "execution_count": 8,
   "metadata": {},
   "outputs": [
    {
     "name": "stdout",
     "output_type": "stream",
     "text": [
      "('information_schema',)\n",
      "('mydatabase',)\n",
      "('mydatabase1',)\n",
      "('mysql',)\n",
      "('performance_schema',)\n",
      "('sakila',)\n",
      "('sys',)\n",
      "('world',)\n"
     ]
    }
   ],
   "source": [
    "# Return a list of your system's databases:\n",
    "import mysql.connector\n",
    "\n",
    "mydb = mysql.connector.connect(\n",
    "  host=\"localhost\",\n",
    "  user=\"sizhezhou\",\n",
    "  password=\"sizhezhou\"\n",
    ")\n",
    "\n",
    "mycursor = mydb.cursor()\n",
    "\n",
    "mycursor.execute(\"SHOW DATABASES\")\n",
    "\n",
    "for x in mycursor:\n",
    "  print(x)"
   ]
  },
  {
   "cell_type": "markdown",
   "metadata": {},
   "source": [
    "Or you can try to access the database when making the connection:"
   ]
  },
  {
   "cell_type": "code",
   "execution_count": 9,
   "metadata": {},
   "outputs": [],
   "source": [
    "import mysql.connector\n",
    "\n",
    "mydb = mysql.connector.connect(\n",
    "  host=\"localhost\",\n",
    "  user=\"sizhezhou\",\n",
    "  password=\"sizhezhou\",\n",
    "  database=\"mydatabase\"\n",
    ")"
   ]
  },
  {
   "cell_type": "markdown",
   "metadata": {},
   "source": [
    "If the database does not exist, you will get an error."
   ]
  },
  {
   "cell_type": "markdown",
   "metadata": {},
   "source": [
    "## 1.3 Creating a Table\n",
    "\n",
    "### 1.3.1 Creating a Table\n",
    "\n",
    "To create a table in MySQL, use the \"CREATE TABLE\" statement.\n",
    "\n",
    "Make sure you define the name of the database when you create the connection"
   ]
  },
  {
   "cell_type": "code",
   "execution_count": 11,
   "metadata": {},
   "outputs": [],
   "source": [
    "# Create a table named \"customers\":\n",
    "import mysql.connector\n",
    "\n",
    "mydb = mysql.connector.connect(\n",
    "  host=\"localhost\",\n",
    "  user=\"sizhezhou\",\n",
    "  password=\"sizhezhou\",\n",
    "  database=\"mydatabase1\"\n",
    ")\n",
    "\n",
    "mycursor = mydb.cursor()\n",
    "\n",
    "mycursor.execute(\"CREATE TABLE customers (name VARCHAR(255), address VARCHAR(255))\")"
   ]
  },
  {
   "cell_type": "markdown",
   "metadata": {},
   "source": [
    "If the above code was executed with no errors, you have now successfully created a table."
   ]
  },
  {
   "cell_type": "markdown",
   "metadata": {},
   "source": [
    "### 1.3.2 Check if Table Exists\n",
    "\n",
    "You can check if a table exist by listing all tables in your database with the \"SHOW TABLES\" statement:"
   ]
  },
  {
   "cell_type": "code",
   "execution_count": 12,
   "metadata": {},
   "outputs": [
    {
     "name": "stdout",
     "output_type": "stream",
     "text": [
      "('customers',)\n"
     ]
    }
   ],
   "source": [
    "# Return a list of your system's databases:\n",
    "mycursor.execute(\"SHOW TABLES\")\n",
    "\n",
    "for x in mycursor:\n",
    "  print(x)"
   ]
  },
  {
   "cell_type": "markdown",
   "metadata": {},
   "source": [
    "### 1.3.3 Primary Key\n",
    "\n",
    "When creating a table, you should also create a column with a unique key for each record.\n",
    "\n",
    "This can be done by defining a PRIMARY KEY.\n",
    "\n",
    "We use the statement \"INT AUTO_INCREMENT PRIMARY KEY\" which will insert a unique number for each record. Starting at 1, and increased by one for each record."
   ]
  },
  {
   "cell_type": "code",
   "execution_count": 13,
   "metadata": {},
   "outputs": [
    {
     "ename": "ProgrammingError",
     "evalue": "1050 (42S01): Table 'customers' already exists",
     "output_type": "error",
     "traceback": [
      "\u001b[1;31m---------------------------------------------------------------------------\u001b[0m",
      "\u001b[1;31mMySQLInterfaceError\u001b[0m                       Traceback (most recent call last)",
      "\u001b[1;32mC:\\MyApps\\Anaconda3\\lib\\site-packages\\mysql\\connector\\connection_cext.py\u001b[0m in \u001b[0;36mcmd_query\u001b[1;34m(self, query, raw, buffered, raw_as_string)\u001b[0m\n\u001b[0;32m    522\u001b[0m                 \u001b[0mquery\u001b[0m \u001b[1;33m=\u001b[0m \u001b[0mquery\u001b[0m\u001b[1;33m.\u001b[0m\u001b[0mencode\u001b[0m\u001b[1;33m(\u001b[0m\u001b[1;34m'utf-8'\u001b[0m\u001b[1;33m)\u001b[0m\u001b[1;33m\u001b[0m\u001b[1;33m\u001b[0m\u001b[0m\n\u001b[1;32m--> 523\u001b[1;33m             self._cmysql.query(query,\n\u001b[0m\u001b[0;32m    524\u001b[0m                                \u001b[0mraw\u001b[0m\u001b[1;33m=\u001b[0m\u001b[0mraw\u001b[0m\u001b[1;33m,\u001b[0m \u001b[0mbuffered\u001b[0m\u001b[1;33m=\u001b[0m\u001b[0mbuffered\u001b[0m\u001b[1;33m,\u001b[0m\u001b[1;33m\u001b[0m\u001b[1;33m\u001b[0m\u001b[0m\n",
      "\u001b[1;31mMySQLInterfaceError\u001b[0m: Table 'customers' already exists",
      "\nDuring handling of the above exception, another exception occurred:\n",
      "\u001b[1;31mProgrammingError\u001b[0m                          Traceback (most recent call last)",
      "\u001b[1;32m~\\AppData\\Local\\Temp/ipykernel_13908/4024199814.py\u001b[0m in \u001b[0;36m<module>\u001b[1;34m\u001b[0m\n\u001b[0;32m      1\u001b[0m \u001b[1;31m# Create primary key when creating the table:\u001b[0m\u001b[1;33m\u001b[0m\u001b[1;33m\u001b[0m\u001b[0m\n\u001b[0;32m      2\u001b[0m \u001b[1;33m\u001b[0m\u001b[0m\n\u001b[1;32m----> 3\u001b[1;33m \u001b[0mmycursor\u001b[0m\u001b[1;33m.\u001b[0m\u001b[0mexecute\u001b[0m\u001b[1;33m(\u001b[0m\u001b[1;34m\"CREATE TABLE customers (id INT AUTO_INCREMENT PRIMARY KEY, name VARCHAR(255), address VARCHAR(255))\"\u001b[0m\u001b[1;33m)\u001b[0m\u001b[1;33m\u001b[0m\u001b[1;33m\u001b[0m\u001b[0m\n\u001b[0m",
      "\u001b[1;32mC:\\MyApps\\Anaconda3\\lib\\site-packages\\mysql\\connector\\cursor_cext.py\u001b[0m in \u001b[0;36mexecute\u001b[1;34m(self, operation, params, multi)\u001b[0m\n\u001b[0;32m    267\u001b[0m \u001b[1;33m\u001b[0m\u001b[0m\n\u001b[0;32m    268\u001b[0m         \u001b[1;32mtry\u001b[0m\u001b[1;33m:\u001b[0m\u001b[1;33m\u001b[0m\u001b[1;33m\u001b[0m\u001b[0m\n\u001b[1;32m--> 269\u001b[1;33m             result = self._cnx.cmd_query(stmt, raw=self._raw,\n\u001b[0m\u001b[0;32m    270\u001b[0m                                          \u001b[0mbuffered\u001b[0m\u001b[1;33m=\u001b[0m\u001b[0mself\u001b[0m\u001b[1;33m.\u001b[0m\u001b[0m_buffered\u001b[0m\u001b[1;33m,\u001b[0m\u001b[1;33m\u001b[0m\u001b[1;33m\u001b[0m\u001b[0m\n\u001b[0;32m    271\u001b[0m                                          raw_as_string=self._raw_as_string)\n",
      "\u001b[1;32mC:\\MyApps\\Anaconda3\\lib\\site-packages\\mysql\\connector\\connection_cext.py\u001b[0m in \u001b[0;36mcmd_query\u001b[1;34m(self, query, raw, buffered, raw_as_string)\u001b[0m\n\u001b[0;32m    526\u001b[0m                                query_attrs=self._query_attrs)\n\u001b[0;32m    527\u001b[0m         \u001b[1;32mexcept\u001b[0m \u001b[0mMySQLInterfaceError\u001b[0m \u001b[1;32mas\u001b[0m \u001b[0mexc\u001b[0m\u001b[1;33m:\u001b[0m\u001b[1;33m\u001b[0m\u001b[1;33m\u001b[0m\u001b[0m\n\u001b[1;32m--> 528\u001b[1;33m             raise errors.get_mysql_exception(exc.errno, msg=exc.msg,\n\u001b[0m\u001b[0;32m    529\u001b[0m                                              sqlstate=exc.sqlstate)\n\u001b[0;32m    530\u001b[0m         \u001b[1;32mexcept\u001b[0m \u001b[0mAttributeError\u001b[0m\u001b[1;33m:\u001b[0m\u001b[1;33m\u001b[0m\u001b[1;33m\u001b[0m\u001b[0m\n",
      "\u001b[1;31mProgrammingError\u001b[0m: 1050 (42S01): Table 'customers' already exists"
     ]
    }
   ],
   "source": [
    "# Create primary key when creating the table:\n",
    "\n",
    "mycursor.execute(\"CREATE TABLE customers (id INT AUTO_INCREMENT PRIMARY KEY, name VARCHAR(255), address VARCHAR(255))\")"
   ]
  },
  {
   "cell_type": "markdown",
   "metadata": {},
   "source": [
    "If the table already exists, use the ALTER TABLE keyword:"
   ]
  },
  {
   "cell_type": "code",
   "execution_count": 14,
   "metadata": {},
   "outputs": [],
   "source": [
    "mycursor.execute(\"ALTER TABLE customers ADD COLUMN id INT AUTO_INCREMENT PRIMARY KEY\")"
   ]
  },
  {
   "cell_type": "markdown",
   "metadata": {},
   "source": [
    "## 1.4 Insert Into Table\n",
    "\n",
    "### 1.4.1 Insert Into Table\n",
    "To fill a table in MySQL, use the \"INSERT INTO\" statement."
   ]
  },
  {
   "cell_type": "code",
   "execution_count": 15,
   "metadata": {},
   "outputs": [
    {
     "name": "stdout",
     "output_type": "stream",
     "text": [
      "1 record inserted.\n"
     ]
    }
   ],
   "source": [
    "# Insert a record in the \"customers\" table:\n",
    "\n",
    "sql = \"INSERT INTO customers (name, address) VALUES (%s, %s)\"\n",
    "val = (\"John\", \"Highway 21\")\n",
    "mycursor.execute(sql, val)\n",
    "\n",
    "mydb.commit()\n",
    "\n",
    "print(mycursor.rowcount, \"record inserted.\")"
   ]
  },
  {
   "cell_type": "markdown",
   "metadata": {},
   "source": [
    "Important!: Notice the statement: mydb.commit(). It is required to make the changes, otherwise no changes are made to the table."
   ]
  },
  {
   "cell_type": "markdown",
   "metadata": {},
   "source": [
    "### 1.4.2 Insert Multiple Rows\n",
    "\n",
    "To insert multiple rows into a table, use the executemany() method.\n",
    "\n",
    "The second parameter of the executemany() method is a list of tuples, containing the data you want to insert:"
   ]
  },
  {
   "cell_type": "code",
   "execution_count": 24,
   "metadata": {},
   "outputs": [
    {
     "name": "stdout",
     "output_type": "stream",
     "text": [
      "13 was inserted.\n"
     ]
    }
   ],
   "source": [
    "# Fill the \"customers\" table with data:\n",
    "sql = \"INSERT INTO customers (name, address) VALUES (%s, %s)\"\n",
    "val = [\n",
    "  ('Peter', 'Lowstreet 4'),\n",
    "  ('Amy', 'Apple st 652'),\n",
    "  ('Hannah', 'Mountain 21'),\n",
    "  ('Michael', 'Valley 345'),\n",
    "  ('Sandy', 'Ocean blvd 2'),\n",
    "  ('Betty', 'Green Grass 1'),\n",
    "  ('Richard', 'Sky st 331'),\n",
    "  ('Susan', 'One way 98'),\n",
    "  ('Vicky', 'Yellow Garden 2'),\n",
    "  ('Ben', 'Park Lane 38'),\n",
    "  ('William', 'Central st 954'),\n",
    "  ('Chuck', 'Main Road 989'),\n",
    "  ('Viola', 'Sideway 1633')\n",
    "]\n",
    "\n",
    "mycursor.executemany(sql, val)\n",
    "\n",
    "mydb.commit()\n",
    "\n",
    "print(mycursor.rowcount, \"was inserted.\")\n"
   ]
  },
  {
   "cell_type": "markdown",
   "metadata": {},
   "source": [
    "### 1.4.3 Get Inserted ID\n",
    "\n",
    "You can get the id of the row you just inserted by asking the cursor object.\n",
    "\n",
    "Note: If you insert more than one row, the id of the last inserted row is returned."
   ]
  },
  {
   "cell_type": "code",
   "execution_count": 17,
   "metadata": {},
   "outputs": [
    {
     "name": "stdout",
     "output_type": "stream",
     "text": [
      "1 record inserted, ID: 15\n"
     ]
    }
   ],
   "source": [
    "# Insert one row, and return the ID:\n",
    "sql = \"INSERT INTO customers (name, address) VALUES (%s, %s)\"\n",
    "val = (\"Michelle\", \"Blue Village\")\n",
    "mycursor.execute(sql, val)\n",
    "\n",
    "mydb.commit()\n",
    "\n",
    "print(\"1 record inserted, ID:\", mycursor.lastrowid)"
   ]
  },
  {
   "cell_type": "markdown",
   "metadata": {},
   "source": [
    "## 1.5 Select From\n",
    "\n",
    "### 1.5.1 Select From a Table\n",
    "\n",
    "To select from a table in MySQL, use the \"SELECT\" statement:"
   ]
  },
  {
   "cell_type": "code",
   "execution_count": 18,
   "metadata": {},
   "outputs": [
    {
     "name": "stdout",
     "output_type": "stream",
     "text": [
      "('John', 'Highway 21', 1)\n",
      "('Peter', 'Lowstreet 4', 2)\n",
      "('Amy', 'Apple st 652', 3)\n",
      "('Hannah', 'Mountain 21', 4)\n",
      "('Michael', 'Valley 345', 5)\n",
      "('Sandy', 'Ocean blvd 2', 6)\n",
      "('Betty', 'Green Grass 1', 7)\n",
      "('Richard', 'Sky st 331', 8)\n",
      "('Susan', 'One way 98', 9)\n",
      "('Vicky', 'Yellow Garden 2', 10)\n",
      "('Ben', 'Park Lane 38', 11)\n",
      "('William', 'Central st 954', 12)\n",
      "('Chuck', 'Main Road 989', 13)\n",
      "('Viola', 'Sideway 1633', 14)\n",
      "('Michelle', 'Blue Village', 15)\n"
     ]
    }
   ],
   "source": [
    "# Select all records from the \"customers\" table, and display the result:\n",
    "mycursor.execute(\"SELECT * FROM customers\")\n",
    "\n",
    "myresult = mycursor.fetchall()\n",
    "\n",
    "for x in myresult:\n",
    "  print(x)"
   ]
  },
  {
   "cell_type": "markdown",
   "metadata": {},
   "source": [
    "Note: We use the fetchall() method, which fetches all rows from the last executed statement."
   ]
  },
  {
   "cell_type": "markdown",
   "metadata": {},
   "source": [
    "### 1.5.2 Selecting Columns\n",
    "To select only some of the columns in a table, use the \"SELECT\" statement followed by the column name(s):"
   ]
  },
  {
   "cell_type": "code",
   "execution_count": 20,
   "metadata": {},
   "outputs": [],
   "source": [
    "# Select only the name and address columns:\n",
    "\n",
    "mydb = mysql.connector.connect(\n",
    "  host=\"localhost\",\n",
    "  user=\"sizhezhou\",\n",
    "  password=\"sizhezhou\",\n",
    "  database=\"mydatabase\"\n",
    ")\n",
    "\n",
    "mycursor = mydb.cursor(buffered=True)\n",
    "mycursor.execute(\"SELECT name, address FROM customers\")\n",
    "\n",
    "myresult = mycursor.fetchall()\n",
    "\n",
    "for x in myresult:\n",
    "  print(x)"
   ]
  },
  {
   "cell_type": "code",
   "execution_count": 21,
   "metadata": {},
   "outputs": [
    {
     "data": {
      "text/plain": [
       "[]"
      ]
     },
     "execution_count": 21,
     "metadata": {},
     "output_type": "execute_result"
    }
   ],
   "source": [
    "myresult"
   ]
  },
  {
   "cell_type": "markdown",
   "metadata": {},
   "source": [
    "### 1.5.3 Using the fetchone() Method\n",
    "If you are only interested in one row, you can use the fetchone() method.\n",
    "\n",
    "The fetchone() method will return the first row of the result:"
   ]
  },
  {
   "cell_type": "code",
   "execution_count": 19,
   "metadata": {},
   "outputs": [
    {
     "name": "stdout",
     "output_type": "stream",
     "text": [
      "('John', 'Highway 21', 1)\n"
     ]
    }
   ],
   "source": [
    "mycursor.execute(\"SELECT * FROM customers\")\n",
    "\n",
    "myresult = mycursor.fetchone()\n",
    "\n",
    "print(myresult)"
   ]
  },
  {
   "cell_type": "markdown",
   "metadata": {},
   "source": [
    "## 1.6 Where\n",
    "### 1.6.1 Select With a Filter\n",
    "When selecting records from a table, you can filter the selection by using the \"WHERE\" statement:"
   ]
  },
  {
   "cell_type": "code",
   "execution_count": 22,
   "metadata": {},
   "outputs": [],
   "source": [
    "# Select record(s) where the address is \"Park Lane 38\": result:\n",
    "sql = \"SELECT * FROM customers WHERE address ='Park Lane 38'\"\n",
    "\n",
    "mycursor.execute(sql)\n",
    "\n",
    "myresult = mycursor.fetchall()\n",
    "\n",
    "for x in myresult:\n",
    "  print(x)"
   ]
  },
  {
   "cell_type": "markdown",
   "metadata": {},
   "source": [
    "### 1.6.2 Wildcard Characters\n",
    "You can also select the records that starts, includes, or ends with a given letter or phrase.\n",
    "\n",
    "Use the %  to represent wildcard characters:"
   ]
  },
  {
   "cell_type": "code",
   "execution_count": 25,
   "metadata": {},
   "outputs": [
    {
     "name": "stdout",
     "output_type": "stream",
     "text": [
      "('Susan', 'One way 98')\n",
      "('Viola', 'Sideway 1633')\n"
     ]
    }
   ],
   "source": [
    "# Select records where the address contains the word \"way\":\n",
    "sql = \"SELECT * FROM customers WHERE address LIKE '%way%'\"\n",
    "\n",
    "mycursor.execute(sql)\n",
    "\n",
    "myresult = mycursor.fetchall()\n",
    "\n",
    "for x in myresult:\n",
    "  print(x)"
   ]
  },
  {
   "cell_type": "markdown",
   "metadata": {},
   "source": [
    "### 1.6.3 Prevent SQL Injection\n",
    "\n",
    "When query values are provided by the user, you should escape the values.\n",
    "\n",
    "This is to prevent SQL injections, which is a common web hacking technique to destroy or misuse your database.\n",
    "\n",
    "The mysql.connector module has methods to escape query values:"
   ]
  },
  {
   "cell_type": "code",
   "execution_count": 26,
   "metadata": {},
   "outputs": [
    {
     "name": "stdout",
     "output_type": "stream",
     "text": [
      "('Vicky', 'Yellow Garden 2')\n"
     ]
    }
   ],
   "source": [
    "# scape query values by using the placholder %s method:\n",
    "sql = \"SELECT * FROM customers WHERE address = %s\"\n",
    "adr = (\"Yellow Garden 2\", )\n",
    "\n",
    "mycursor.execute(sql, adr)\n",
    "\n",
    "myresult = mycursor.fetchall()\n",
    "\n",
    "for x in myresult:\n",
    "  print(x)"
   ]
  },
  {
   "cell_type": "markdown",
   "metadata": {},
   "source": [
    "## 1.7 Order By\n",
    "### 1.7.1 Sort the Result\n",
    "Use the ORDER BY statement to sort the result in ascending or descending order.\n",
    "\n",
    "The ORDER BY keyword sorts the result ascending by default. To sort the result in descending order, use the DESC keyword."
   ]
  },
  {
   "cell_type": "code",
   "execution_count": 27,
   "metadata": {},
   "outputs": [
    {
     "name": "stdout",
     "output_type": "stream",
     "text": [
      "('Amy', 'Apple st 652')\n",
      "('Ben', 'Park Lane 38')\n",
      "('Betty', 'Green Grass 1')\n",
      "('Chuck', 'Main Road 989')\n",
      "('Hannah', 'Mountain 21')\n",
      "('Michael', 'Valley 345')\n",
      "('Peter', 'Lowstreet 4')\n",
      "('Richard', 'Sky st 331')\n",
      "('Sandy', 'Ocean blvd 2')\n",
      "('Susan', 'One way 98')\n",
      "('Vicky', 'Yellow Garden 2')\n",
      "('Viola', 'Sideway 1633')\n",
      "('William', 'Central st 954')\n"
     ]
    }
   ],
   "source": [
    "# Sort the result alphabetically by name: result:\n",
    "sql = \"SELECT * FROM customers ORDER BY name\"\n",
    "\n",
    "mycursor.execute(sql)\n",
    "\n",
    "myresult = mycursor.fetchall()\n",
    "\n",
    "for x in myresult:\n",
    "  print(x)"
   ]
  },
  {
   "cell_type": "markdown",
   "metadata": {},
   "source": [
    "### 1.7.2 ORDER BY DESC\n",
    "Use the DESC keyword to sort the result in a descending order.\n"
   ]
  },
  {
   "cell_type": "code",
   "execution_count": 28,
   "metadata": {},
   "outputs": [
    {
     "name": "stdout",
     "output_type": "stream",
     "text": [
      "('William', 'Central st 954')\n",
      "('Viola', 'Sideway 1633')\n",
      "('Vicky', 'Yellow Garden 2')\n",
      "('Susan', 'One way 98')\n",
      "('Sandy', 'Ocean blvd 2')\n",
      "('Richard', 'Sky st 331')\n",
      "('Peter', 'Lowstreet 4')\n",
      "('Michael', 'Valley 345')\n",
      "('Hannah', 'Mountain 21')\n",
      "('Chuck', 'Main Road 989')\n",
      "('Betty', 'Green Grass 1')\n",
      "('Ben', 'Park Lane 38')\n",
      "('Amy', 'Apple st 652')\n"
     ]
    }
   ],
   "source": [
    "# Sort the result reverse alphabetically by name:\n",
    "sql = \"SELECT * FROM customers ORDER BY name DESC\"\n",
    "\n",
    "mycursor.execute(sql)\n",
    "\n",
    "myresult = mycursor.fetchall()\n",
    "\n",
    "for x in myresult:\n",
    "  print(x)"
   ]
  },
  {
   "cell_type": "markdown",
   "metadata": {},
   "source": [
    "### 1.8 Delete From By\n",
    "### 1.8.1 Delete Record\n",
    "\n",
    "You can delete records from an existing table by using the \"DELETE FROM\" statement:"
   ]
  },
  {
   "cell_type": "code",
   "execution_count": 29,
   "metadata": {},
   "outputs": [
    {
     "name": "stdout",
     "output_type": "stream",
     "text": [
      "1 record(s) deleted\n"
     ]
    }
   ],
   "source": [
    "# Delete any record where the address is \"Mountain 21\":\n",
    "sql = \"DELETE FROM customers WHERE address = 'Mountain 21'\"\n",
    "\n",
    "mycursor.execute(sql)\n",
    "\n",
    "mydb.commit()\n",
    "\n",
    "print(mycursor.rowcount, \"record(s) deleted\")"
   ]
  },
  {
   "cell_type": "markdown",
   "metadata": {},
   "source": [
    "Important!: Notice the statement: mydb.commit(). It is required to make the changes, otherwise no changes are made to the table.\n",
    "\n",
    "Notice the WHERE clause in the DELETE syntax: The WHERE clause specifies which record(s) that should be deleted. If you omit the WHERE clause, all records will be deleted!"
   ]
  },
  {
   "cell_type": "markdown",
   "metadata": {},
   "source": [
    "### 1.8.2 Prevent SQL Injection\n",
    "\n",
    "It is considered a good practice to escape the values of any query, also in delete statements.\n",
    "\n",
    "This is to prevent SQL injections, which is a common web hacking technique to destroy or misuse your database.\n",
    "\n",
    "The mysql.connector module uses the placeholder %s to escape values in the delete statement:"
   ]
  },
  {
   "cell_type": "code",
   "execution_count": 30,
   "metadata": {},
   "outputs": [
    {
     "name": "stdout",
     "output_type": "stream",
     "text": [
      "1 record(s) deleted\n"
     ]
    }
   ],
   "source": [
    "# Escape values by using the placeholder %s method:\n",
    "sql = \"DELETE FROM customers WHERE address = %s\"\n",
    "adr = (\"Yellow Garden 2\", )\n",
    "\n",
    "mycursor.execute(sql, adr)\n",
    "\n",
    "mydb.commit()\n",
    "\n",
    "print(mycursor.rowcount, \"record(s) deleted\")"
   ]
  },
  {
   "cell_type": "markdown",
   "metadata": {},
   "source": [
    "## 1.9 Drop Table\n",
    "### 1.9.1 Delete a Table\n",
    "You can delete an existing table by using the \"DROP TABLE\" statement:"
   ]
  },
  {
   "cell_type": "code",
   "execution_count": null,
   "metadata": {},
   "outputs": [],
   "source": [
    "# Delete the table \"customers\":\n",
    "sql = \"DROP TABLE customers\"\n",
    "\n",
    "mycursor.execute(sql)"
   ]
  },
  {
   "cell_type": "markdown",
   "metadata": {},
   "source": [
    "### 1.9.2 Drop Only if Exist\n",
    "If the the table you want to delete is already deleted, or for any other reason does not exist, you can use the IF EXISTS keyword to avoid getting an error."
   ]
  },
  {
   "cell_type": "code",
   "execution_count": null,
   "metadata": {},
   "outputs": [],
   "source": [
    "sql = \"DROP TABLE IF EXISTS customers\"\n",
    "\n",
    "mycursor.execute(sql)"
   ]
  },
  {
   "cell_type": "markdown",
   "metadata": {},
   "source": [
    "## 1.10 Update Table\n",
    "### 1.10.1 Update Table\n",
    "You can update existing records in a table by using the \"UPDATE\" statement:"
   ]
  },
  {
   "cell_type": "code",
   "execution_count": 31,
   "metadata": {},
   "outputs": [
    {
     "name": "stdout",
     "output_type": "stream",
     "text": [
      "1 record(s) affected\n"
     ]
    }
   ],
   "source": [
    "# Overwrite the address column from \"Valley 345\" to \"Canyon 123\":\n",
    "sql = \"UPDATE customers SET address = 'Canyon 123' WHERE address = 'Valley 345'\"\n",
    "\n",
    "mycursor.execute(sql)\n",
    "\n",
    "mydb.commit()\n",
    "\n",
    "print(mycursor.rowcount, \"record(s) affected\")"
   ]
  },
  {
   "cell_type": "markdown",
   "metadata": {},
   "source": [
    "Notice the WHERE clause in the UPDATE syntax: The WHERE clause specifies which record or records that should be updated. If you omit the WHERE clause, all records will be updated!"
   ]
  },
  {
   "cell_type": "markdown",
   "metadata": {},
   "source": [
    "### 1.10.2 Prevent SQL Injection\n",
    "It is considered a good practice to escape the values of any query, also in update statements.\n",
    "\n",
    "This is to prevent SQL injections, which is a common web hacking technique to destroy or misuse your database.\n",
    "\n",
    "The mysql.connector module uses the placeholder %s to escape values in the delete statement:"
   ]
  },
  {
   "cell_type": "code",
   "execution_count": 32,
   "metadata": {},
   "outputs": [
    {
     "name": "stdout",
     "output_type": "stream",
     "text": [
      "1 record(s) affected\n"
     ]
    }
   ],
   "source": [
    "sql = \"UPDATE customers SET address = %s WHERE address = %s\"\n",
    "val = (\"Valley 345\", \"Canyon 123\")\n",
    "\n",
    "mycursor.execute(sql, val)\n",
    "\n",
    "mydb.commit()\n",
    "\n",
    "print(mycursor.rowcount, \"record(s) affected\")"
   ]
  },
  {
   "cell_type": "markdown",
   "metadata": {},
   "source": [
    "## 1.11 MySQL Limit\n",
    "### 1.11.1 Limit the Result\n",
    "You can limit the number of records returned from the query, by using the \"LIMIT\" statement:"
   ]
  },
  {
   "cell_type": "code",
   "execution_count": 33,
   "metadata": {},
   "outputs": [
    {
     "name": "stdout",
     "output_type": "stream",
     "text": [
      "('Peter', 'Lowstreet 4')\n",
      "('Amy', 'Apple st 652')\n",
      "('Michael', 'Valley 345')\n",
      "('Sandy', 'Ocean blvd 2')\n",
      "('Betty', 'Green Grass 1')\n"
     ]
    }
   ],
   "source": [
    "mycursor.execute(\"SELECT * FROM customers LIMIT 5\")\n",
    "\n",
    "myresult = mycursor.fetchall()\n",
    "\n",
    "for x in myresult:\n",
    "  print(x)"
   ]
  },
  {
   "cell_type": "markdown",
   "metadata": {},
   "source": [
    "### 1.11.2 Start From Another Position\n",
    "If you want to return five records, starting from the third record, you can use the \"OFFSET\" keyword:"
   ]
  },
  {
   "cell_type": "code",
   "execution_count": 34,
   "metadata": {},
   "outputs": [
    {
     "name": "stdout",
     "output_type": "stream",
     "text": [
      "('Michael', 'Valley 345')\n",
      "('Sandy', 'Ocean blvd 2')\n",
      "('Betty', 'Green Grass 1')\n",
      "('Richard', 'Sky st 331')\n",
      "('Susan', 'One way 98')\n"
     ]
    }
   ],
   "source": [
    "# Start from position 3, and return 5 records:\n",
    "mycursor.execute(\"SELECT * FROM customers LIMIT 5 OFFSET 2\")\n",
    "\n",
    "myresult = mycursor.fetchall()\n",
    "\n",
    "for x in myresult:\n",
    "  print(x)"
   ]
  },
  {
   "cell_type": "markdown",
   "metadata": {},
   "source": [
    "## 1.12 Join\n",
    "### 1.12.1 Join Two or More Tables\n",
    "You can combine rows from two or more tables, based on a related column between them, by using a JOIN statement.\n",
    "\n",
    "Consider you have a \"users\" table and a \"products\" table:"
   ]
  },
  {
   "cell_type": "markdown",
   "metadata": {},
   "source": [
    "```\n",
    "users\n",
    "{ id: 1, name: 'John', fav: 154},\n",
    "{ id: 2, name: 'Peter', fav: 154},\n",
    "{ id: 3, name: 'Amy', fav: 155},\n",
    "{ id: 4, name: 'Hannah', fav:},\n",
    "{ id: 5, name: 'Michael', fav:}\n",
    "\n",
    "products\n",
    "{ id: 154, name: 'Chocolate Heaven' },\n",
    "{ id: 155, name: 'Tasty Lemons' },\n",
    "{ id: 156, name: 'Vanilla Dreams' }\n",
    "```\n",
    "\n",
    "\n",
    "These two tables can be combined by using users' fav field and products' id field."
   ]
  },
  {
   "cell_type": "code",
   "execution_count": null,
   "metadata": {},
   "outputs": [],
   "source": [
    "# Join users and products to see the name of the users favorite product:\n",
    "import mysql.connector\n",
    "\n",
    "mydb = mysql.connector.connect(\n",
    "  host=\"localhost\",\n",
    "  user=\"yourusername\",\n",
    "  password=\"yourpassword\",\n",
    "  database=\"mydatabase\"\n",
    ")\n",
    "\n",
    "mycursor = mydb.cursor()\n",
    "\n",
    "sql = \"SELECT \\\n",
    "  users.name AS user, \\\n",
    "  products.name AS favorite \\\n",
    "  FROM users \\\n",
    "  INNER JOIN products ON users.fav = products.id\"\n",
    "\n",
    "mycursor.execute(sql)\n",
    "\n",
    "myresult = mycursor.fetchall()\n",
    "\n",
    "for x in myresult:\n",
    "  print(x)"
   ]
  },
  {
   "cell_type": "markdown",
   "metadata": {},
   "source": [
    "You can use JOIN instead of INNER JOIN. They will both give you the same result.\n",
    "\n",
    "### 1.12.2 LEFT JOIN\n",
    "In the example above, Hannah, and Michael were excluded from the result, that is because INNER JOIN only shows the records where there is a match.\n",
    "\n",
    "If you want to show all users, even if they do not have a favorite product, use the LEFT JOIN statement:"
   ]
  },
  {
   "cell_type": "code",
   "execution_count": null,
   "metadata": {},
   "outputs": [],
   "source": [
    "# Select all users and their favorite product:\n",
    "sql = \"SELECT \\\n",
    "  users.name AS user, \\\n",
    "  products.name AS favorite \\\n",
    "  FROM users \\\n",
    "  LEFT JOIN products ON users.fav = products.id\""
   ]
  },
  {
   "cell_type": "markdown",
   "metadata": {},
   "source": [
    "### 1.12.3 RIGHT JOIN\n",
    "If you want to return all products, and the users who have them as their favorite, even if no user have them as their favorite, use the RIGHT JOIN statement:"
   ]
  },
  {
   "cell_type": "code",
   "execution_count": null,
   "metadata": {},
   "outputs": [],
   "source": [
    "# Select all products, and the user(s) who have them as their favorite:\n",
    "sql = \"SELECT \\\n",
    "  users.name AS user, \\\n",
    "  products.name AS favorite \\\n",
    "  FROM users \\\n",
    "  RIGHT JOIN products ON users.fav = products.id\""
   ]
  },
  {
   "cell_type": "markdown",
   "metadata": {},
   "source": [
    "## 1.13 Relation\n",
    "### 1.13.1 What’s a Relation?\n",
    "\n",
    "Relations have a long history. More formal treatments of relations use the term “tuple” to refer to the rows of a relation, and “attribute” to refer to the columns. There is also a rigorous way to define data operations using relational algebra, which is derived from mathematical set algebra. Interested data scientists can find a more in-depth treatment of relations in books on database systems such as the one by Garcia-Molina, Ullman, and Widom [Garcia-Molina et al., 2008].\n",
    "\n",
    "### 1.13.2 Relations and Spreadsheets\n",
    "Spreadsheets are computer applications where users can enter data in a grid and use formulas to perform calcuations. One famous example today is Microsoft Excel, although spreadsheets date back to at least 1979 with VisiCalc [Grad, 2007]. Spreadsheets make it easy to see and directly manipulate data. These properties make spreadsheets highly popular—by a 2005 estimate, there are over 55 million spreadsheet users compared to 3 million professional programmers in industry [Scaffidi et al., 2005].\n",
    "\n",
    "Relations have several key advantages over spreadsheets. Writing SQL code in a computational notebook like Jupyter naturally produces a data lineage. Someone who opens the notebook can see the input files for the notebook and how the data were changed. Spreadsheets do not make a data lineage visible; if a person manually edits data values in a cell, it is difficult for future users to see which values were manually edited or how they were edited. Relations can also handle larger datasets than spreadsheets; users can use SQL systems to work with huge datasets that would be very hard to load into a spreadsheet.\n",
    "\n",
    "### 1.13.3 Relations and Matrices\n",
    "A matrix is a two-dimensional array of data used primarily for linear algebra operations. In the example below, \\( \\mathbf{X} \\) is a matrix with three rows and two columns.\n",
    "\n",
    "\\[\\begin{split} \\begin{aligned} \\mathbf{X} = \\begin{bmatrix} 1 & 0 \\\\ 0 & 4 \\\\ 0 & 0 \\\\ \\end{bmatrix} \\end{aligned} \\end{split}\\]\n",
    "Matrices are mathematical objects defined by the operators that they allow. For instance, matrices can be added or multiplied together. Matrices also have a transpose. These operators have very useful properties which data scientists rely on for statistical modeling.\n",
    "\n",
    "One important difference between a matrix and a relation: when treated as a mathematical object, matrices can only contain numbers. Relations, on the other hand, can also have other types of data like text. This makes relations more useful for loading and processing real-world data which may contain all kinds of data types.\n",
    "\n",
    "### 1.13.4 Relations and Dataframes\n",
    "\n",
    "Dataframes are one of the most common ways to represent data tables in general purpose programming languages like Python and R. Dataframes share many similarities with relations; both use rows to represent records and columns to represent features. Both have column names, and data within a column have the same type.\n",
    "\n",
    "One key advantage of dataframes is that they don’t require rows to represent records and columns to represent features. Many times, raw data don’t come in a convenient format that can directly be put into a relation. In these scenarios, data scientists use the dataframe to load and process data since dataframes are more flexible in this regard. Often, data scientists will load raw data into a dataframe, then process the data into a format that can easily stored into a relation.\n",
    "\n",
    "One key advantage that relations have over dataframes is that relations are used by relational database systems like PostgreSQL 1 that have highly useful features for data storage and management. Consider a data scientist at a company that runs a large social media website. The database might hold data that is far too large to read into a pandas dataframe all at once; instead, data scientists use SQL queries to subset and aggregate data since database systems are more capable of handling large datasets. Also, website users constantly make updates to their data by making posts, uploading pictures, and editing their profile. Here, database systems let data scientists reuse their existing SQL queries to update their analyses with the latest data rather than having to repeatedly download large CSV files.\n",
    "\n",
    "For a more rigourous description of the difference between dataframes and relations, see [Petersohn et al., 2020]."
   ]
  },
  {
   "cell_type": "markdown",
   "metadata": {},
   "source": []
  }
 ],
 "metadata": {
  "interpreter": {
   "hash": "fa0bcc37cb1d53a5ae18050bdae53d79e821dde74f36703fee7d6ffe11c2adc2"
  },
  "kernelspec": {
   "display_name": "Python 3.7.12 ('basicdl')",
   "language": "python",
   "name": "python3"
  },
  "language_info": {
   "codemirror_mode": {
    "name": "ipython",
    "version": 3
   },
   "file_extension": ".py",
   "mimetype": "text/x-python",
   "name": "python",
   "nbconvert_exporter": "python",
   "pygments_lexer": "ipython3",
   "version": "3.9.7"
  },
  "orig_nbformat": 4
 },
 "nbformat": 4,
 "nbformat_minor": 2
}
