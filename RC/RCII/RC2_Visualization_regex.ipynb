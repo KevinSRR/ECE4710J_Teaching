{
 "cells": [
  {
   "cell_type": "markdown",
   "metadata": {},
   "source": [
    "# RC II\n",
    "\n",
    "---\n",
    "ECE4710J  2022SP\n",
    "\n",
    "Materials collected by Sizhe Zhou. Credit to all the related online resources and the usage of this notebook is limited to education purpose. \n",
    "\n",
    "Mar. 11th, 2022\n",
    "\n",
    "---\n"
   ]
  },
  {
   "cell_type": "code",
   "execution_count": null,
   "metadata": {},
   "outputs": [],
   "source": [
    "import matplotlib.pyplot as plt"
   ]
  },
  {
   "cell_type": "markdown",
   "metadata": {},
   "source": [
    "# 0. Intro\n",
    "\n",
    "## 0.1 What is Matplotlib?\n",
    "\n",
    "Matplotlib is basically a Multiplatform visualization library for data that is built on NumPy Arrays. This Library is designed to work with the broader SciPy stack, which includes different modules of Python used for machine learning and data science.\n",
    "\n",
    "- Matplotlib is the default(sort of) Python Data Visualization Package.\n",
    "\n",
    "- As Matplotlib is a visualization library, these visualizations allow us to represent huge amount of data in visual form like charts and plots.\n",
    "\n",
    "- Matplotlib is useful in creating 2D plots from the data in Arrays.\n",
    "\n",
    "- Matplotlib library is inspired by MATLAB programming language and it also provides a similar interface like MATLAB for graphics.\n",
    "\n",
    "- This library gets easily integrated with the Pandas package which is used for data manipulation.\n",
    "\n",
    "- With the combination of Pandas and Matplotlib data wrangling can be done along with the visualization and one can get valuable insights out of the data.\n",
    "\n",
    "- Matplotlib library in Python is mainly known as Grammer of Graphics and it is the most used library for creating charts and plots in Python.\n",
    "\n",
    "- Matplotlib can be used with Jupyter Notebook, web server Applications, and IPython shells.\n",
    "\n",
    "It was written by John D. Hunter in 2003 and it was born with its 0.1 version. Matplotlib received an early boost at the time when it was adopted as the plotting package of choice by the Space Telescope Science Institute.\n",
    "\n",
    "## 0.2 Important Modules in Matplotlib\n",
    "\n",
    "There are two important modules in Matplotlib Library and these are given below:\n",
    "\n",
    "![structure](./assets/struc.jpg)\n",
    "\n",
    "### 0.2.1 pyplot\n",
    "\n",
    "- It is an important module in Matplotlib. In our further tutorials in code examples, you will often see matplotlib.pyplot being used.\n",
    "\n",
    "- This module mainly provides us an interface that allows us to automatically and implicitly create figures and their axes to achieve the desired plot.\n",
    "\n",
    "- This is a great module when you quickly want to plot something without the instantiation of any figure or any axes.\n",
    "\n",
    "### 0.2.2 pylab\n",
    "\n",
    "- It is another important module of Matplotlib.\n",
    "\n",
    "- You need to install this module alongside the matplotlib module.\n",
    "\n",
    "- The Module pylab helps to import NumPy and pyplot and it is recommended when you need to work with arrays, perform mathematical operations, and you want to access the plotting features.\n",
    "\n",
    "- It is not recommended in case you are using IPython Kernel.\n",
    "\n",
    "### 0.2.3 Matplotlib, pyplot and pylab: how are they related?\n",
    "\n",
    "Matplotlib is the whole package; matplotlib.pyplot is a module in matplotlib; and pylab is a module that gets installed alongside matplotlib.\n",
    "\n",
    "Pyplot provides the state-machine interface to the underlying object-oriented plotting library. The state-machine implicitly and automatically creates figures and axes to achieve the desired plot. For example:"
   ]
  },
  {
   "cell_type": "code",
   "execution_count": null,
   "metadata": {},
   "outputs": [],
   "source": [
    "import matplotlib.pyplot as plt\n",
    "import numpy as np\n",
    "\n",
    "x = np.linspace(0, 2, 100)\n",
    "\n",
    "plt.plot(x, x, label='linear')\n",
    "plt.plot(x, x**2, label='quadratic')\n",
    "plt.plot(x, x**3, label='cubic')\n",
    "\n",
    "plt.xlabel('x label')\n",
    "plt.ylabel('y label')\n",
    "\n",
    "plt.title(\"Simple Plot\")\n",
    "\n",
    "plt.legend()\n",
    "\n",
    "plt.show()"
   ]
  },
  {
   "cell_type": "markdown",
   "metadata": {},
   "source": [
    "The first call to plt.plot will automatically create the necessary figure and axes to achieve the desired plot. Subsequent calls to plt.plot re-use the current axes and each add another line. Setting the title, legend, and axis labels also automatically use the current axes and set the title, create the legend, and label the axis respectively.\n",
    "\n",
    "pylab is a convenience module that bulk imports matplotlib.pyplot (for plotting) and numpy (for mathematics and working with arrays) in a single name space. Although many examples use pylab, it is no longer recommended.\n",
    "\n",
    "For non-interactive plotting it is suggested to use pyplot to create the figures and then the OO interface for plotting."
   ]
  },
  {
   "cell_type": "markdown",
   "metadata": {},
   "source": [
    "## 0.3 Types of inputs to plotting functions\n",
    "\n",
    "All of plotting functions expect np.array or np.ma.masked_array as input. Classes that are ‘array-like’ such as pandas data objects and np.matrix may or may not work as intended. It is best to convert these to np.array objects prior to plotting.\n",
    "\n",
    "For example, to covert a pandas.DataFrame\n",
    "\n"
   ]
  },
  {
   "cell_type": "code",
   "execution_count": null,
   "metadata": {},
   "outputs": [],
   "source": [
    "import pandas\n",
    "a = pandas.DataFrame(np.random.rand(4,5), columns = list('abcde'))\n",
    "a_asndarray = a.values"
   ]
  },
  {
   "cell_type": "markdown",
   "metadata": {},
   "source": [
    "and to covert a np.matrix"
   ]
  },
  {
   "cell_type": "code",
   "execution_count": null,
   "metadata": {},
   "outputs": [],
   "source": [
    "b = np.matrix([[1,2],[3,4]])\n",
    "b_asarray = np.asarray(b)"
   ]
  },
  {
   "cell_type": "markdown",
   "metadata": {},
   "source": [
    "# 1. Pyplot API\n",
    "\n",
    "matplotlib.pyplot is a collection of command style functions that make Matplotlib work like MATLAB. Each Pyplot function makes some change to a figure. For example, a function creates a figure, a plotting area in a figure, plots some lines in a plotting area, decorates the plot with labels, etc.\n",
    "\n",
    "## Types of Plots\n",
    "\n",
    "| Sr.No | Function & Description                           |\n",
    "| ----- | ------------------------------------------------ |\n",
    "| 1     | **Bar **: Make a bar plot.                       |\n",
    "| 2     | **Barh**: Make a horizontal bar plot.            |\n",
    "| 3     | **Boxplot**: Make a box and whisker plot.        |\n",
    "| 4     | **Hist**: Plot a histogram.                      |\n",
    "| 5     | **hist2d**: Make a 2D histogram plot.            |\n",
    "| 6     | **Pie**: Plot a pie chart.                       |\n",
    "| 7     | **Plot**: Plot lines and/or markers to the Axes. |\n",
    "| 8     | **Polar**: Make a polar plot..                   |\n",
    "| 9     | **Scatter**: Make a scatter plot of x vs y.      |\n",
    "| 10    | **Stackplot**: Draws a stacked area plot.        |\n",
    "| 11    | **Stem**: Create a stem plot.                    |\n",
    "| 12    | **Step**: Make a step plot.                      |\n",
    "| 13    | **Quiver**: Plot a 2-D field of arrows.          |\n",
    "\n",
    "## Image Functions\n",
    "\n",
    "| Sr.No | Function & Description                               |\n",
    "| ----- | ---------------------------------------------------- |\n",
    "| 1     | **Imread**: Read an image from a file into an array. |\n",
    "| 2     | **Imsave**: Save an array as in image file.          |\n",
    "| 3     | **Imshow**: Display an image on the axes.            |\n",
    "\n",
    "## Axis Functions\n",
    "\n",
    "| Sr.No | Function & Description                                       |\n",
    "| ----- | ------------------------------------------------------------ |\n",
    "| 1     | **Axes**: Add axes to the figure.                            |\n",
    "| 2     | **Text**: Add text to the axes.                              |\n",
    "| 3     | **Title**: Set a title of the current axes.                  |\n",
    "| 4     | **Xlabel**: Set the x axis label of the current axis.        |\n",
    "| 5     | **Xlim**: Get or set the x limits of the current axes.       |\n",
    "| 6     | **Xscale**.                                                  |\n",
    "| 7     | **Xticks**: Get or set the x-limits of the current tick locations and labels. |\n",
    "| 8     | **Ylabel**: Set the y axis label of the current axis.        |\n",
    "| 9     | **Ylim**: Get or set the y-limits of the current axes.       |\n",
    "| 10    | **Yscale**: Set the scaling of the y-axis.                   |\n",
    "| 11    | **Yticks**: Get or set the y-limits of the current tick locations and labels. |\n",
    "\n",
    "## Figure Functions\n",
    "\n",
    "| Sr.No | Function & Description                |\n",
    "| ----- | ------------------------------------- |\n",
    "| 1     | **Figtext**: Add text to figure.      |\n",
    "| 2     | **Figure**: Creates a new figure.     |\n",
    "| 3     | **Show**: Display a figure.           |\n",
    "| 4     | **Savefig**: Save the current figure. |\n",
    "| 5     | **Close**: Close a figure window.     |"
   ]
  },
  {
   "cell_type": "markdown",
   "metadata": {},
   "source": [
    "## 1.1 Simple Plot"
   ]
  },
  {
   "cell_type": "code",
   "execution_count": null,
   "metadata": {},
   "outputs": [],
   "source": [
    "import numpy as np\n",
    "import math"
   ]
  },
  {
   "cell_type": "code",
   "execution_count": null,
   "metadata": {},
   "outputs": [],
   "source": [
    "x = np.arange(0, math.pi * 2, 0.05)\n",
    "y = np.sin(x)\n",
    "plt.plot(x, y)"
   ]
  },
  {
   "cell_type": "code",
   "execution_count": null,
   "metadata": {},
   "outputs": [],
   "source": [
    "# you can set the plot title, and labels for x and y axes\n",
    "plt.xlabel(\"angle\")\n",
    "plt.ylabel(\"sine\")\n",
    "plt.title(\"sine wave\")"
   ]
  },
  {
   "cell_type": "code",
   "execution_count": null,
   "metadata": {},
   "outputs": [],
   "source": [
    "# the plot viewer windows is invoked by the show() function\n",
    "plt.show()"
   ]
  },
  {
   "cell_type": "code",
   "execution_count": null,
   "metadata": {},
   "outputs": [],
   "source": [
    "# the complete program is as follows\n",
    "from matplotlib import pyplot as plt\n",
    "import numpy as np\n",
    "import math #needed for definition of pi\n",
    "x = np.arange(0, math.pi*2, 0.05)\n",
    "y = np.sin(x)\n",
    "plt.plot(x,y)\n",
    "plt.xlabel(\"angle\")\n",
    "plt.ylabel(\"sine\")\n",
    "plt.title('sine wave')\n",
    "plt.show()"
   ]
  },
  {
   "cell_type": "code",
   "execution_count": null,
   "metadata": {},
   "outputs": [],
   "source": [
    "# to displayh plot outputs inside the notebook itself (and not in the separate viewer), neter the following magic statement\n",
    "%matplotlib inline"
   ]
  },
  {
   "cell_type": "markdown",
   "metadata": {},
   "source": [
    "# 2. PyLab Module\n",
    "\n",
    "PyLab is a procedural interface to the Matplotlib object-oriented plotting library. Matplotlib is the whole package; matplotlib.pyplot is a module in Matplotlib; and PyLab is a module that gets installed alongside Matplotlib.\n",
    "\n",
    "PyLab is a convenience module that bulk imports matplotlib.pyplot (for plotting) and NumPy (for Mathematics and working with arrays) in a single name space. Although many examples use PyLab, it is no longer recommended.\n",
    "\n",
    "## 2.1 Basic Plotting\n",
    "\n",
    "Plotting curves is done with the plot command. It takes a pair of same-length arrays (or sequences)\n"
   ]
  },
  {
   "cell_type": "code",
   "execution_count": null,
   "metadata": {},
   "outputs": [],
   "source": [
    "from numpy import *\n",
    "from pylab import *\n",
    "x = linspace(-3, 3, 30)\n",
    "y = x**2\n",
    "plot(x, y)\n",
    "show()"
   ]
  },
  {
   "cell_type": "markdown",
   "metadata": {},
   "source": [
    "To plot symbols rather than lines, provide an additional string argument.\n",
    "\n",
    "| symbols | - , –, -., , . , , , o , ^ , v , < , > , s , + , x , D , d , 1 , 2 , 3 , 4 , h , H , p , \\| , _ |\n",
    "| ------- | ------------------------------------------------------------ |\n",
    "| colors  | b, g, r, c, m, y, k, w                                       |"
   ]
  },
  {
   "cell_type": "code",
   "execution_count": null,
   "metadata": {},
   "outputs": [],
   "source": [
    "from pylab import *\n",
    "x = linspace(-3, 3, 30)\n",
    "y = x**2\n",
    "plot(x, y, 'r.')\n",
    "show()"
   ]
  },
  {
   "cell_type": "markdown",
   "metadata": {},
   "source": [
    "Plots can be overlaid. Just use the multiple plot commands. Use clf() to clear the plot."
   ]
  },
  {
   "cell_type": "code",
   "execution_count": null,
   "metadata": {},
   "outputs": [],
   "source": [
    "from pylab import *\n",
    "plot(x, sin(x))\n",
    "plot(x, cos(x), 'r-')\n",
    "plot(x, -sin(x), 'g--')\n",
    "show()"
   ]
  },
  {
   "cell_type": "markdown",
   "metadata": {},
   "source": [
    "# 3. Object-oriented Interface\n",
    "\n",
    "Everything in matplotlib is organized in a hierarchy. At the top of the hierarchy is the matplotlib “state-machine environment” which is provided by the [`matplotlib.pyplot`](https://matplotlib.org/2.0.2/api/pyplot_api.html#module-matplotlib.pyplot) module. At this level, simple functions are used to add plot elements (lines, images, text, etc.) to the current axes in the current figure.\n",
    "\n",
    "> Note: \n",
    ">\n",
    "> Pyplot’s state-machine environment behaves similarly to MATLAB and should be most familiar to users with MATLAB experience.\n",
    "\n",
    "The next level down in the hierarchy is the first level of the object-oriented interface, in which pyplot is used only for a few functions such as figure creation, and the user explicitly creates and keeps track of the figure and axes objects. At this level, the user uses pyplot to create figures, and through those figures, one or more axes objects can be created. These axes objects are then used for most plotting actions.\n",
    "\n",
    "For even more control – which is essential for things like embedding matplotlib plots in GUI applications – the pyplot level may be dropped completely, leaving a purely object-oriented approach.\n",
    "\n",
    "While it is easy to quickly generate plots with the matplotlib.pyplot module, the use of object-oriented approach is recommended as it gives more control and customization of your plots. Most of the functions are also available in the matplotlib.axes.Axes class.\n",
    "\n",
    "The main idea behind using the more formal object-oriented method is to create figure objects and then just call methods or attributes off of that object. This approach helps better in dealing with a canvas that has multiple plots on it.\n",
    "\n",
    "In object-oriented interface, Pyplot is used only for a few functions such as figure creation, and the user explicitly creates and keeps track of the figure and axes objects. At this level, the user uses Pyplot to create figures, and through those figures, one or more axes objects can be created. These axes objects are then used for most plotting actions.\n",
    "\n"
   ]
  },
  {
   "cell_type": "markdown",
   "metadata": {},
   "source": [
    "## 3.1 General Concepts\n",
    "\n",
    "When using the OO interface, it helps to know how the `matplotlib` structures its plots. The final plot that we see as the output is a ‘Figure’ object. The `Figure` object is the top level container for all the other elements that make up the graphic image. These “other” elements are called `Artists`. The `Figure` object can be thought of as a canvas, upon which different artists act to create the final graphic image. This `Figure` can contain any number of various artists.\n",
    "\n",
    "![matplotlib](./assets/anatomy-of-a-figure.webp)\n",
    "\n",
    "### Figure\n",
    "\n",
    "The whole figure. The figure keeps track of all the child Axes, a smattering of ‘special’ artists (titles, figure legends, etc), and the canvas. (Don’t worry too much about the canvas, it is crucial as it is the object that actually does the drawing to get you your plot, but as the user it is more-or-less invisible to you). A figure can have any number of Axes, but to be useful should have at least one.\n",
    "\n",
    "The easiest way to create a new figure is with pyplot:"
   ]
  },
  {
   "cell_type": "code",
   "execution_count": null,
   "metadata": {},
   "outputs": [],
   "source": [
    "fig = plt.figure()  # an empty figure with no axes\n",
    "fig, ax_lst = plt.subplots(2, 2)  # a figure with a 2x2 grid of Axes"
   ]
  },
  {
   "cell_type": "code",
   "execution_count": null,
   "metadata": {},
   "outputs": [],
   "source": [
    "display(ax_lst)\n",
    "display(ax_lst.shape)"
   ]
  },
  {
   "cell_type": "markdown",
   "metadata": {},
   "source": [
    "### Axes\n",
    "\n",
    "This is what you think of as ‘a plot’, it is the region of the image with the data space (marked as the inner blue box). A given figure can contain many Axes, but a given Axes object can only be in one Figure. The Axes contains two (or three in the case of 3D) Axis objects (be aware of the difference between Axes and Axis) which take care of the data limits (the data limits can also be controlled via set via the set_xlim() and set_ylim() Axes methods). Each Axes has a title (set via set_title()), an x-label (set via set_xlabel()), and a y-label set via set_ylabel()).\n",
    "\n",
    "The Axes class and it’s member functions are the primary entry point to working with the OO interface.\n",
    "\n",
    "### Axis\n",
    "\n",
    "These are the number-line-like objects (circled in green). They take care of setting the graph limits and generating the ticks (the marks on the axis) and ticklabels (strings labeling the ticks). The location of the ticks is determined by a Locator object and the ticklabel strings are formatted by a Formatter. The combination of the correct Locator and Formatter gives very fine control over the tick locations and labels.\n",
    "\n",
    "### Artist\n",
    "\n",
    "Basically everything you can see on the figure is an artist (even the Figure, Axes, and Axis objects). This includes Text objects, Line2D objects, collection objects, Patch objects ... (you get the idea). When the figure is rendered, all of the artists are drawn to the canvas. Most Artists are tied to an Axes; such an Artist cannot be shared by multiple Axes, or moved from one to another.\n",
    "\n",
    "### Things to note about the anatomy of a figure\n",
    "\n",
    "- All of the items labelled in *blue* are `Artists`. `Artists` are basically all the elements that are rendered onto the figure. This can include text, patches (like arrows and shapes), etc. Thus, all the following `Figure`, `Axes` and `Axis` objects are also Artists.\n",
    "\n",
    "- Each plot that we see in a figure, is an `Axes` object. The `Axes` object holds the actual data that we are going to display. It will also contain X- and Y-axis labels, a title. Each `Axes` object will contain two or more `Axis` objects.\n",
    "\n",
    "- The `Axis` objects set the data limits. It also contains the ticks and ticks labels. `ticks` are the marks that we see on a axis."
   ]
  },
  {
   "cell_type": "markdown",
   "metadata": {},
   "source": [
    "## 3.2 Figure Class\n",
    "\n",
    "The matplotlib.figure module contains the Figure class. It is a top-level container for all plot elements. The Figure object is instantiated by calling the figure() function from the pyplot module "
   ]
  },
  {
   "cell_type": "code",
   "execution_count": null,
   "metadata": {},
   "outputs": [],
   "source": [
    "fig = plt.figure()"
   ]
  },
  {
   "cell_type": "markdown",
   "metadata": {},
   "source": [
    "The following table shows the additional parameters −\n",
    "\n",
    "| Figsize   | (width,height) tuple in inches |\n",
    "| --------- | ------------------------------ |\n",
    "| Dpi       | Dots per inches                |\n",
    "| Facecolor | Figure patch facecolor         |\n",
    "| Edgecolor | Figure patch edge color        |\n",
    "| Linewidth | Edge line width                |"
   ]
  },
  {
   "cell_type": "markdown",
   "metadata": {},
   "source": [
    "## 3.3 Axes Class\n",
    "\n",
    "Axes object is added to figure by calling the add_axes() method. It returns the axes object and adds an axes at position rect [left, bottom, width, height] where all quantities are in fractions of figure width and height.\n",
    "\n",
    "### Parameter\n",
    "\n",
    "Following is the parameter for the Axes class −\n",
    "\n",
    "> rect − A 4-length sequence of [left, bottom, width, height] quantities."
   ]
  },
  {
   "cell_type": "code",
   "execution_count": null,
   "metadata": {},
   "outputs": [],
   "source": [
    "ax=fig.add_axes([0,0,1,1])"
   ]
  },
  {
   "cell_type": "markdown",
   "metadata": {},
   "source": [
    "The following member functions of axes class add different elements to plot −\n",
    "\n",
    "### Legend\n",
    "\n",
    "The legend() method of axes class adds a legend to the plot figure. It takes three parameters\n",
    "\n",
    "> ax.legend(handles, labels, loc)\n",
    "\n",
    "Where labels is a sequence of strings and handles a sequence of Line2D or Patch instances. loc can be a string or an integer specifying the legend location.\n",
    "\n",
    "| Location string | Location code |\n",
    "| --------------- | ------------- |\n",
    "| Best            | 0             |\n",
    "| upper right     | 1             |\n",
    "| upper left      | 2             |\n",
    "| lower left      | 3             |\n",
    "| lower right     | 4             |\n",
    "| Right           | 5             |\n",
    "| Center left     | 6             |\n",
    "| Center right    | 7             |\n",
    "| lower center    | 8             |\n",
    "| upper center    | 9             |\n",
    "| Center          | 10            |\n",
    "\n",
    "### axes.plot()\n",
    "\n",
    "This is the basic method of axes class that plots values of one array versus another as lines or markers. The plot() method can have an optional format string argument to specify color, style and size of line and marker.\n",
    "\n",
    "### Color codes\n",
    "\n",
    "| Character | Color   |\n",
    "| --------- | ------- |\n",
    "| ‘b’       | Blue    |\n",
    "| ‘g’       | Green   |\n",
    "| ‘r’       | Red     |\n",
    "| ‘b’       | Blue    |\n",
    "| ‘c’       | Cyan    |\n",
    "| ‘m’       | Magenta |\n",
    "| ‘y’       | Yellow  |\n",
    "| ‘k’       | Black   |\n",
    "| ‘b’       | Blue    |\n",
    "| ‘w’       | White   |\n",
    "\n",
    "### Marker codes\n",
    "\n",
    "| Character | Description    |\n",
    "| --------- | -------------- |\n",
    "| ‘.’       | Point marker   |\n",
    "| ‘o’       | Circle marker  |\n",
    "| ‘x’       | X marker       |\n",
    "| ‘D’       | Diamond marker |\n",
    "| ‘H’       | Hexagon marker |\n",
    "| ‘s’       | Square marker  |\n",
    "| ‘+’       | Plus marker    |\n",
    "\n",
    "### Line styles\n",
    "\n",
    "| Character | Description    |\n",
    "| --------- | -------------- |\n",
    "| ‘-‘       | Solid line     |\n",
    "| ‘—‘       | Dashed line    |\n",
    "| ‘-.’      | Dash-dot line  |\n",
    "| ‘:’       | Dotted line    |\n",
    "| ‘H’       | Hexagon marker |\n",
    "\n",
    "---\n",
    "\n",
    "Following example shows the advertisement expenses and sales figures of TV and smartphone in the form of line plots. Line representing TV is a solid line with yellow colour and square markers whereas smartphone line is a dashed line with green colour and circle marker."
   ]
  },
  {
   "cell_type": "code",
   "execution_count": null,
   "metadata": {},
   "outputs": [],
   "source": [
    "import matplotlib.pyplot as plt\n",
    "y = [1, 4, 9, 16, 25,36,49, 64]\n",
    "x1 = [1, 16, 30, 42,55, 68, 77,88]\n",
    "x2 = [1,6,12,18,28, 40, 52, 65]\n",
    "fig = plt.figure()\n",
    "ax = fig.add_axes([0,0,1,1])\n",
    "# ax = fig.add_axes([0,0.5,1,1])\n",
    "# ax = fig.add_axes([0.5,0.5,1,1])\n",
    "# ax = fig.add_axes([0.5,0,1,1])\n",
    "# ax = fig.add_axes([0,0,2,1])\n",
    "# ax = fig.add_axes([0,0,0.5,1])\n",
    "l1 = ax.plot(x1,y,'ys-') # solid line with yellow colour and square marker\n",
    "l2 = ax.plot(x2,y,'go--') # dash line with green colour and circle marker\n",
    "ax.legend(labels = ('tv', 'Smartphone'), loc = 'lower right') # legend placed at lower right\n",
    "ax.set_title(\"Advertisement effect on sales\")\n",
    "ax.set_xlabel('medium')\n",
    "ax.set_ylabel('sales')\n",
    "plt.show()"
   ]
  },
  {
   "cell_type": "markdown",
   "metadata": {},
   "source": [
    "## 3.4 Multiplots\n",
    "\n",
    "The subplot() function returns the axes object at a given grid position. The Call signature of this function is\n",
    "\n",
    "> plt.subplot(nrows, ncols, index)\n",
    "\n",
    "In the current figure, the function creates and returns an Axes object, at position index of a grid of nrows by ncolsaxes. Indexes go from 1 to nrows * ncols, incrementing in row-major order.If nrows, ncols and index are all less than 10. The indexes can also be given as single, concatenated, threedigitnumber.\n",
    "\n",
    "For example, subplot(2, 3, 3) and subplot(233) both create an Axes at the top right corner of the current figure, occupying half of the figure height and a third of the figure width.\n",
    "\n",
    "Creating a subplot will delete any pre-existing subplot that overlaps with it beyond sharing a boundary.\n",
    "\n",
    "If you do not want this behavior, use the [`Figure.add_subplot`](https://matplotlib.org/3.1.1/api/_as_gen/matplotlib.figure.Figure.html#matplotlib.figure.Figure.add_subplot) method or the [`pyplot.axes`](https://matplotlib.org/3.1.1/api/_as_gen/matplotlib.pyplot.axes.html#matplotlib.pyplot.axes) function instead.\n",
    "\n",
    "If the figure already has a subplot with key (*args*, *kwargs*) then it will simply make that subplot current and return it. This behavior is deprecated. Meanwhile, if you do not want this behavior (i.e., you want to force the creation of a new subplot), you must use a unique set of args and kwargs. The axes *label* attribute has been exposed for this purpose: if you want two subplots that are otherwise identical to be added to the figure, make sure you give them unique labels.\n",
    "\n",
    "In rare circumstances, [`add_subplot`](https://matplotlib.org/3.1.1/api/_as_gen/matplotlib.figure.Figure.html#matplotlib.figure.Figure.add_subplot) may be called with a single argument, a subplot axes instance already created in the present figure but not in the figure's list of axes.\n",
    "\n",
    "\n",
    "> See also\n",
    ">\n",
    "> [`Figure.add_subplot`](https://matplotlib.org/3.1.1/api/_as_gen/matplotlib.figure.Figure.html#matplotlib.figure.Figure.add_subplot)\n",
    "> [`pyplot.subplots`](https://matplotlib.org/3.1.1/api/_as_gen/matplotlib.pyplot.subplots.html#matplotlib.pyplot.subplots)\n",
    "> [`pyplot.axes`](https://matplotlib.org/3.1.1/api/_as_gen/matplotlib.pyplot.axes.html#matplotlib.pyplot.axes)\n",
    "> [`Figure.subplots`](https://matplotlib.org/3.1.1/api/_as_gen/matplotlib.figure.Figure.html#matplotlib.figure.Figure.subplots)"
   ]
  },
  {
   "cell_type": "code",
   "execution_count": null,
   "metadata": {},
   "outputs": [],
   "source": [
    "import matplotlib.pyplot as plt\n",
    "plt.subplot(221)\n",
    "\n",
    "# equivalent but more general\n",
    "ax1 = plt.subplot(2, 2, 1)\n",
    "\n",
    "# add a subplot with no frame\n",
    "ax2 = plt.subplot(222, frameon=False)\n",
    "\n",
    "# add a polar subplot\n",
    "plt.subplot(223, projection='polar')\n",
    "\n",
    "# add a red subplot that shares the x-axis with ax1\n",
    "plt.subplot(224, sharex=ax1, facecolor='red')\n",
    "\n",
    "# delete ax2 from the figure\n",
    "plt.delaxes(ax2)"
   ]
  },
  {
   "cell_type": "code",
   "execution_count": null,
   "metadata": {},
   "outputs": [],
   "source": [
    "import matplotlib.pyplot as plt\n",
    "# plot a line, implicitly creating a subplot(111)\n",
    "plt.plot([1,2,3])\n",
    "\n",
    "# now create a subplot which represents the top plot of a grid with 2 rows and 1 column.\n",
    "# Since this subplot will overlap the first, the plot (and its axes) previously created, will be removed\n",
    "plt.subplot(211)\n",
    "plt.plot(range(12))\n",
    "\n",
    "plt.subplot(212, facecolor='y') # creates 2nd subplot with yellow background\n",
    "plt.plot(range(12))"
   ]
  },
  {
   "cell_type": "markdown",
   "metadata": {},
   "source": [
    "The add_subplot() function of the figure class will not overwrite the existing plot"
   ]
  },
  {
   "cell_type": "code",
   "execution_count": null,
   "metadata": {},
   "outputs": [],
   "source": [
    "import matplotlib.pyplot as plt\n",
    "fig = plt.figure()\n",
    "ax1 = fig.add_subplot(111)\n",
    "ax1.plot([1,2,3])\n",
    "ax2 = fig.add_subplot(221, facecolor='y')\n",
    "ax2.plot([1,2,3])"
   ]
  },
  {
   "cell_type": "markdown",
   "metadata": {},
   "source": [
    "You can add an insert plot in the same figure by adding another axes object in the same figure canvas."
   ]
  },
  {
   "cell_type": "code",
   "execution_count": null,
   "metadata": {},
   "outputs": [],
   "source": [
    "import matplotlib.pyplot as plt\n",
    "import numpy as np\n",
    "import math\n",
    "x = np.arange(0, math.pi*2, 0.05)\n",
    "fig = plt.figure()\n",
    "axes1 = fig.add_axes([0.1, 0.1, 0.8, 0.8]) # main axes\n",
    "axes2 = fig.add_axes([0.55, 0.55, 0.3, 0.3]) # inset axes\n",
    "y = np.sin(x)\n",
    "axes1.plot(x, y, 'b')\n",
    "axes2.plot(x, np.cos(x),'r')\n",
    "axes1.set_title('sine')\n",
    "axes2.set_title(\"cosine\")\n",
    "plt.show()"
   ]
  },
  {
   "cell_type": "markdown",
   "metadata": {},
   "source": [
    "## 3.5 Subplots() Function\n",
    "\n",
    "Matplotlib’spyplot API has a convenience function called subplots() which acts as a utility wrapper and helps in creating common layouts of subplots, including the enclosing figure object, in a single call.\n",
    "\n",
    "> Plt.subplots(nrows, ncols)\n",
    "\n",
    "\n",
    "The two integer arguments to this function specify the number of rows and columns of the subplot grid. The function returns a figure object and a tuple containing axes objects equal to nrows*ncols. Each axes object is accessible by its index. Here we create a subplot of 2 rows by 2 columns and display 4 different plots in each subplot.\n"
   ]
  },
  {
   "cell_type": "code",
   "execution_count": null,
   "metadata": {},
   "outputs": [],
   "source": [
    "import matplotlib.pyplot as plt\n",
    "fig,a =  plt.subplots(2,2)\n",
    "import numpy as np\n",
    "x = np.arange(1,5)\n",
    "a[0][0].plot(x,x*x)\n",
    "a[0][0].set_title('square')\n",
    "a[0][1].plot(x,np.sqrt(x))\n",
    "a[0][1].set_title('square root')\n",
    "a[1][0].plot(x,np.exp(x))\n",
    "a[1][0].set_title('exp')\n",
    "a[1][1].plot(x,np.log10(x))\n",
    "a[1][1].set_title('log')\n",
    "plt.show()"
   ]
  },
  {
   "cell_type": "markdown",
   "metadata": {},
   "source": [
    "## 3.6 Grids\n",
    "\n",
    "The grid() function of axes object sets visibility of grid inside the figure to on or off. You can also display major / minor (or both) ticks of the grid. Additionally color, linestyle and linewidth properties can be set in the grid() function."
   ]
  },
  {
   "cell_type": "code",
   "execution_count": null,
   "metadata": {},
   "outputs": [],
   "source": [
    "import matplotlib.pyplot as plt\n",
    "import numpy as np\n",
    "fig, axes = plt.subplots(1,3, figsize = (12,4))\n",
    "x = np.arange(1,11)\n",
    "axes[0].plot(x, x**3, 'g',lw=2)\n",
    "axes[0].grid(True)\n",
    "axes[0].set_title('default grid')\n",
    "axes[1].plot(x, np.exp(x), 'r')\n",
    "axes[1].grid(color='b', ls = '-.', lw = 0.25)\n",
    "axes[1].set_title('custom grid')\n",
    "axes[2].plot(x,x)\n",
    "axes[2].set_title('no grid')\n",
    "fig.tight_layout()\n",
    "plt.show()"
   ]
  },
  {
   "cell_type": "markdown",
   "metadata": {},
   "source": [
    "## 3.7 Formatting Axes\n",
    "\n",
    "Sometimes, one or a few points are much larger than the bulk of data. In such a case, the scale of an axis needs to be set as logarithmic rather than the normal scale. This is the Logarithmic scale. In Matplotlib, it is possible by setting xscale or vscale property of axes object to ‘log’.\n",
    "\n",
    "It is also required sometimes to show some additional distance between axis numbers and axis label. The labelpad property of either axis (x or y or both) can be set to the desired value.\n",
    "\n",
    "Both the above features are demonstrated with the help of the following example. The subplot on the right has a logarithmic scale and one on left has its x axis having label at more distance.\n"
   ]
  },
  {
   "cell_type": "code",
   "execution_count": null,
   "metadata": {},
   "outputs": [],
   "source": [
    "import matplotlib.pyplot as plt\n",
    "import numpy as np\n",
    "fig, axes = plt.subplots(1, 2, figsize=(10,4))\n",
    "x = np.arange(1,5)\n",
    "axes[0].plot( x, np.exp(x))\n",
    "axes[0].plot(x,x**2)\n",
    "axes[0].set_title(\"Normal scale\")\n",
    "axes[1].plot (x, np.exp(x))\n",
    "axes[1].plot(x, x**2)\n",
    "axes[1].set_yscale(\"log\")\n",
    "axes[1].set_title(\"Logarithmic scale (y)\")\n",
    "axes[0].set_xlabel(\"x axis\")\n",
    "axes[0].set_ylabel(\"y axis\")\n",
    "axes[0].xaxis.labelpad = 10\n",
    "axes[1].set_xlabel(\"x axis\")\n",
    "axes[1].set_ylabel(\"y axis\")\n",
    "plt.show()"
   ]
  },
  {
   "cell_type": "code",
   "execution_count": null,
   "metadata": {},
   "outputs": [],
   "source": [
    "axes[0].xaxis"
   ]
  },
  {
   "cell_type": "markdown",
   "metadata": {},
   "source": [
    "Axis spines are the lines connecting axis tick marks demarcating boundaries of plot area. The axes object has spines located at top, bottom, left and right.\n",
    "\n",
    "Each spine can be formatted by specifying color and width. Any edge can be made invisible if its color is set to none."
   ]
  },
  {
   "cell_type": "code",
   "execution_count": null,
   "metadata": {},
   "outputs": [],
   "source": [
    "import matplotlib.pyplot as plt\n",
    "fig = plt.figure()\n",
    "ax = fig.add_axes([0,0,1,1])\n",
    "ax.spines['bottom'].set_color('blue')\n",
    "ax.spines['left'].set_color('red')\n",
    "ax.spines['left'].set_linewidth(2)\n",
    "ax.spines['right'].set_color('green')\n",
    "ax.spines['top'].set_color(None)\n",
    "ax.plot([1,2,3,4,5])\n",
    "plt.show()"
   ]
  },
  {
   "cell_type": "markdown",
   "metadata": {},
   "source": [
    "## 3.8 Setting Limits\n",
    "\n",
    "Matplotlib automatically arrives at the minimum and maximum values of variables to be displayed along x, y (and z axis in case of 3D plot) axes of a plot. However, it is possible to set the limits explicitly by using set_xlim() and set_ylim() functions.\n",
    "\n",
    "In the following plot, the autoscaled limits of x and y axes are shown"
   ]
  },
  {
   "cell_type": "code",
   "execution_count": null,
   "metadata": {},
   "outputs": [],
   "source": [
    "import matplotlib.pyplot as plt\n",
    "fig = plt.figure()\n",
    "a1 = fig.add_axes([0,0,1,1])\n",
    "import numpy as np\n",
    "x = np.arange(1,10)\n",
    "a1.plot(x, np.exp(x))\n",
    "a1.set_title('exp')\n",
    "plt.show()"
   ]
  },
  {
   "cell_type": "markdown",
   "metadata": {},
   "source": [
    "Now we format the limits on x axis to (0 to 10) and y axis (0 to 10000)"
   ]
  },
  {
   "cell_type": "code",
   "execution_count": null,
   "metadata": {},
   "outputs": [],
   "source": [
    "import matplotlib.pyplot as plt\n",
    "fig = plt.figure()\n",
    "a1 = fig.add_axes([0,0,1,1])\n",
    "import numpy as np\n",
    "x = np.arange(1,10)\n",
    "a1.plot(x, np.exp(x),'r')\n",
    "a1.set_title('exp')\n",
    "a1.set_ylim(0,10000)\n",
    "a1.set_xlim(0,10)\n",
    "plt.show()"
   ]
  },
  {
   "cell_type": "markdown",
   "metadata": {},
   "source": [
    "## 3.9 Setting Ticks and Tick Labels\n",
    "\n",
    "Ticks are the markers denoting data points on axes. Matplotlib has so far - in all our previous examples - automatically taken over the task of spacing points on the axis. Matplotlib's default tick locators and formatters are designed to be generally sufficient in many common situations. Position and labels of ticks can be explicitly mentioned to suit specific requirements.\n",
    "\n",
    "The xticks() and yticks() function takes a list object as argument. The elements in the list denote the positions on corresponding action where ticks will be displayed.\n",
    "\n",
    "> ax.set_xticks([2,4,6,8,10])\n",
    "\n",
    "This method will mark the data points at the given positions with ticks.\n",
    "\n",
    "Similarly, labels corresponding to tick marks can be set by set_xlabels() and set_ylabels() functions respectively.\n",
    "\n",
    "> ax.set_xlabels([‘two’, ‘four’,’six’, ‘eight’, ‘ten’])\n",
    "\n",
    "This will display the text labels below the markers on the x axis.\n",
    "\n",
    "Following example demonstrates the use of ticks and labels."
   ]
  },
  {
   "cell_type": "code",
   "execution_count": null,
   "metadata": {},
   "outputs": [],
   "source": [
    "import matplotlib.pyplot as plt\n",
    "import numpy as np\n",
    "import math\n",
    "x = np.arange(0, math.pi * 2, 0.05)\n",
    "fig = plt.figure()\n",
    "ax = fig.add_axes([0.1, 0.1, 0.8, 0.8]) # main axes\n",
    "y = np.sin(x)\n",
    "ax.plot(x, y)\n",
    "ax.set_xlabel('angle')\n",
    "ax.set_title('sine')\n",
    "ax.set_xticks([0, 2, 4, 6])\n",
    "ax.set_xticklabels(['zero', 'two', 'four', 'six'])\n",
    "ax.set_yticks([-1, 0, 1])\n",
    "plt.show()"
   ]
  },
  {
   "cell_type": "markdown",
   "metadata": {},
   "source": [
    "## 3.10 Twin Axes\n",
    "\n",
    "It is considered useful to have dual x or y axes in a figure. Moreso, when plotting curves with different units together. Matplotlib supports this with the twinxand twiny functions.\n",
    "\n",
    "In the following example, the plot has dual y axes, one showing exp(x) and the other showing log(x)"
   ]
  },
  {
   "cell_type": "code",
   "execution_count": null,
   "metadata": {},
   "outputs": [],
   "source": [
    "import matplotlib.pyplot as plt\n",
    "import numpy as np\n",
    "fig = plt.figure()\n",
    "a1 = fig.add_axes([0,0,1,1])\n",
    "x = np.arange(1,11)\n",
    "a1.plot(x,np.exp(x))\n",
    "a1.set_ylabel('exp')\n",
    "a2 = a1.twinx()\n",
    "a2.plot(x, np.log(x),'ro-')\n",
    "a2.set_ylabel('log')\n",
    "fig.legend(labels = ('exp','log'),loc='upper left')\n",
    "plt.show()"
   ]
  },
  {
   "cell_type": "markdown",
   "metadata": {},
   "source": [
    "# 4. Text and Annotation\n",
    "\n",
    "An important part of making readable plots is labeling and annotating the axes. We've already seen some of this with the set_xlabel, set_ylabel, and set_title commands. In this section we will cover text and annotation using the text and annotate commands, and we will cover the fine-tuning of axis tick labels using Formatter and Locator instances.\n",
    "\n",
    "## 4.1 Adding Text\n",
    "\n",
    "Text can be added to the axes in several ways. The easiest way is to use the text command. Here's a basic version of the command:\n",
    "\n"
   ]
  },
  {
   "cell_type": "code",
   "execution_count": null,
   "metadata": {},
   "outputs": [],
   "source": [
    "fig, ax = plt.subplots()\n",
    "\n",
    "ax.text(0.5, 0.5, 'hello world: $\\int_0^\\infty e^x dx$', size=24, ha='center', va='center')"
   ]
  },
  {
   "cell_type": "markdown",
   "metadata": {},
   "source": [
    "The above command places the text using data coordinates: that is, as we change the x and y limits the text will move around the axes. It is also possible to place text at a static location on the figure. The locations are between 0 and 1, from the bottom-left of the figure to the top-right:"
   ]
  },
  {
   "cell_type": "code",
   "execution_count": null,
   "metadata": {},
   "outputs": [],
   "source": [
    "fig.text(0, 0, 'bottom-left corner')\n",
    "fig.text(1, 1, 'top-right corner', ha='left', va='top')\n",
    "fig"
   ]
  },
  {
   "cell_type": "markdown",
   "metadata": {},
   "source": [
    "It is also possible to place text relative to the axes coordinates, but this is easier with the annotate command rather than the text command:"
   ]
  },
  {
   "cell_type": "code",
   "execution_count": null,
   "metadata": {},
   "outputs": [],
   "source": [
    "fig, ax = plt.subplots()\n",
    "\n",
    "ax.annotate('0.25 on axes', (0.25, 0.25), textcoords='axes fraction', size=20)\n",
    "ax.annotate('0.25 on data', (0.25, 0.25), textcoords='data', size=20)\n",
    "ax.set_ylim(0, 0.5)"
   ]
  },
  {
   "cell_type": "markdown",
   "metadata": {},
   "source": [
    "Annotate has some more powerful features as well: it can be used to automatically label parts of the axes with arrows."
   ]
  },
  {
   "cell_type": "code",
   "execution_count": null,
   "metadata": {},
   "outputs": [],
   "source": [
    "fig, ax = plt.subplots()\n",
    "\n",
    "ax.annotate('origin is here', (0, 0), (0.75, 0.75),\n",
    "            arrowprops=dict(arrowstyle='->', connectionstyle='arc3, rad=0.5'),\n",
    "            xycoords='data', textcoords='axes fraction')"
   ]
  },
  {
   "cell_type": "markdown",
   "metadata": {},
   "source": [
    "There are a number of different arrow styles available: the online documentation has a good set of examples.\n",
    "\n",
    "## 4.2 Controlling Axis Properties\n",
    "\n",
    "Often you'd like to be able to fine-tune the tick labels on the axis, explicitly setting where they appear, adding minor ticks, or perhaps turning them off altogether. This is accomplished through the Formatter and Locator objects.\n",
    "\n",
    "Locator objects control where ticks are located. Here are some of the available choices:\n",
    "\n",
    "- plt.MultipleLocator: locate ticks at a multiple of some value\n",
    "- plt.MaxNLocator: use a maximum number of ticks for the given plot range\n",
    "- plt.NullLocator: do not add ticks to the plot\n",
    "\n",
    "Formatter objects control what labels are shown at the tick locations. Some useful options are:\n",
    "\n",
    "- plt.FormatStrFormatter: use a format string (like '%.2g) at each tick\n",
    "- plt.FuncFormatter: specify a user-defined function\n",
    "- plt.NullFormatter: do not label the ticks\n",
    "\n",
    "Any of these options may be applied to either major or minor ticks, using the functions\n",
    "\n",
    "- set_major_formatter, set_major_locator\n",
    "- set_minor_formatter, set_minor_locator\n",
    "\n",
    "We'll see some examples below\n",
    "\n"
   ]
  },
  {
   "cell_type": "code",
   "execution_count": null,
   "metadata": {},
   "outputs": [],
   "source": [
    "fig, ax = plt.subplots()\n",
    "\n",
    "x = np.linspace(0, 10)\n",
    "ax.plot(x, np.sin(x))\n",
    "\n",
    "ax.xaxis.set_major_locator(plt.MultipleLocator(0.8))\n",
    "ax.yaxis.set_major_locator(plt.MaxNLocator(3))\n",
    "\n",
    "ax.xaxis.set_minor_locator(plt.MultipleLocator(0.4))\n",
    "ax.yaxis.set_minor_locator(plt.NullLocator())  # no ticks (default)\n",
    "\n",
    "ax.xaxis.set_major_formatter(plt.FormatStrFormatter('%.2f'))  # float with two decimals\n",
    "\n",
    "\n",
    "def format(val, pos):\n",
    "    if val > 0:\n",
    "        return \"positive\"\n",
    "    elif val < 0:\n",
    "        return \"negative\"\n",
    "    else:\n",
    "        return \"zero\"\n",
    "    \n",
    "ax.yaxis.set_major_formatter(plt.FuncFormatter(format))"
   ]
  },
  {
   "cell_type": "markdown",
   "metadata": {},
   "source": [
    "---\n",
    "\n"
   ]
  },
  {
   "cell_type": "markdown",
   "metadata": {},
   "source": [
    "# 1. Python Regular Expressions\n",
    "\n",
    "The Python \"re\" module provides regular expression support.\n",
    "\n",
    "In Python a regular expression search is typically written as:\n",
    "\n",
    ">  match = re.search(pat, str)\n",
    "\n",
    "The re.search() method takes a regular expression pattern and a string and searches for that pattern within the string. If the search is successful, search() returns a match object or None otherwise. Therefore, the search is usually immediately followed by an if-statement to test if the search succeeded, as shown in the following example which searches for the pattern 'word:' followed by a 3 letter word (details below):"
   ]
  },
  {
   "cell_type": "code",
   "execution_count": null,
   "metadata": {},
   "outputs": [],
   "source": [
    "str = 'an example word:cat!!'\n",
    "match = re.search(r'word:\\w\\w\\w', str)\n",
    "# If-statement after search() tests if it succeeded\n",
    "if match:\n",
    "  print('found', match.group()) ## 'found word:cat'\n",
    "else:\n",
    "  print('did not find')"
   ]
  },
  {
   "cell_type": "markdown",
   "metadata": {},
   "source": [
    "The code `match = re.search(pat, str)` stores the search result in a variable named \"match\". Then the if-statement tests the match -- if true the search succeeded and match.group() is the matching text (e.g. 'word:cat'). Otherwise if the match is false (None to be more specific), then the search did not succeed, and there is no matching text.\n",
    "\n",
    "The 'r' at the start of the pattern string designates a python \"raw\" string which passes through backslashes without change which is very handy for regular expressions (Java needs this feature badly!). I recommend that you always write pattern strings with the 'r' just as a habit."
   ]
  },
  {
   "cell_type": "markdown",
   "metadata": {},
   "source": [
    "## 1.1 Basic Patterns\n",
    "\n",
    "The power of regular expressions is that they can specify patterns, not just fixed characters. Here are the most basic patterns which match single chars:\n",
    "\n",
    "- a, X, 9, < -- ordinary characters just match themselves exactly. The meta-characters which do not match themselves because they have special meanings are: . ^ $ * + ? { [ ] \\ | ( ) (details below)\n",
    "- . (a period) -- matches any single character except newline '\\n'\n",
    "- \\w -- (lowercase w) matches a \"word\" character: a letter or digit or underbar [a-zA-Z0-9_]. Note that although \"word\" is the mnemonic for this, it only matches a single word char, not a whole word. \\W (upper case W) matches any non-word character.\n",
    "- \\b -- boundary between word and non-word\n",
    "- \\s -- (lowercase s) matches a single whitespace character -- space, newline, return, tab, form [ \\n\\r\\t\\f]. \\S (upper case S) matches any non-whitespace character.\n",
    "- \\t, \\n, \\r -- tab, newline, return\n",
    "- \\d -- decimal digit [0-9] (some older regex utilities do not support \\d, but they all support \\w and \\s)\n",
    "- ^ = start, $ = end -- match the start or end of the string\n",
    "- \\ -- inhibit the \"specialness\" of a character. So, for example, use \\. to match a period or \\\\ to match a slash. If you are unsure if a character has special meaning, such as '@', you can put a slash in front of it, \\@, to make sure it is treated just as a character.\n",
    "\n",
    "## 1.2 Basic Examples\n",
    "\n",
    "Joke: what do you call a pig with three eyes? piiig!\n",
    "\n",
    "The basic rules of regular expression search for a pattern within a string are:\n",
    "\n",
    "- The search proceeds through the string from start to end, stopping at the first match found\n",
    "- All of the pattern must be matched, but not all of the string\n",
    "- If `match = re.search(pat, str)` is successful, match is not None and in particular match.group() is the matching text"
   ]
  },
  {
   "cell_type": "code",
   "execution_count": null,
   "metadata": {},
   "outputs": [],
   "source": [
    "## Search for pattern 'iii' in string 'piiig'.\n",
    "## All of the pattern must match, but it may appear anywhere.\n",
    "## On success, match.group() is matched text.\n",
    "match = re.search(r'iii', 'piiig') # found, match.group() == \"iii\"\n",
    "display(match)\n",
    "\n",
    "match = re.search(r'igs', 'piiig') # not found, match == None\n",
    "display(match)\n",
    "\n",
    "## . = any char but \\n\n",
    "match = re.search(r'..g', 'piiig') # found, match.group() == \"iig\"\n",
    "display(match)\n",
    "\n",
    "## \\d = digit char, \\w = word char\n",
    "match = re.search(r'\\d\\d\\d', 'p123g') # found, match.group() == \"123\"\n",
    "display(match)\n",
    "\n",
    "match = re.search(r'\\w\\w\\w', '@@abcd!!') # found, match.group() == \"abc\"\n",
    "display(match)\n"
   ]
  },
  {
   "cell_type": "markdown",
   "metadata": {},
   "source": [
    "## 1.3 Repetition\n",
    "\n",
    "Things get more interesting when you use + and * to specify repetition in the pattern\n",
    "\n",
    "- \\+ -- 1 or more occurrences of the pattern to its left, e.g. 'i+' = one or more i's\n",
    "- \\* -- 0 or more occurrences of the pattern to its left\n",
    "- ? -- match 0 or 1 occurrences of the pattern to its left\n",
    "\n",
    "### Leftmost & Largest\n",
    "\n",
    "First the search finds the leftmost match for the pattern, and second it tries to use up as much of the string as possible -- i.e. + and * go as far as possible (the + and * are said to be \"greedy\").\n",
    "\n",
    "### Repetition Examples"
   ]
  },
  {
   "cell_type": "code",
   "execution_count": null,
   "metadata": {},
   "outputs": [],
   "source": [
    "## i+ = one or more i's, as many as possible.\n",
    "match = re.search(r'pi+', 'piiig') # found, match.group() == \"piii\"\n",
    "display(match)\n",
    "\n",
    "## Finds the first/leftmost solution, and within it drives the +\n",
    "## as far as possible (aka 'leftmost and largest').\n",
    "## In this example, note that it does not get to the second set of i's.\n",
    "match = re.search(r'i+', 'piigiiii') # found, match.group() == \"ii\"\n",
    "display(match)\n",
    "\n",
    "## \\s* = zero or more whitespace chars\n",
    "## Here look for 3 digits, possibly separated by whitespace.\n",
    "match = re.search(r'\\d\\s*\\d\\s*\\d', 'xx1 2   3xx') # found, match.group() == \"1 2   3\"\n",
    "display(match)\n",
    "\n",
    "match = re.search(r'\\d\\s*\\d\\s*\\d', 'xx12  3xx') # found, match.group() == \"12  3\"\n",
    "display(match)\n",
    "\n",
    "match = re.search(r'\\d\\s*\\d\\s*\\d', 'xx123xx') # found, match.group() == \"123\"\n",
    "display(match)\n",
    "\n",
    "## ^ = matches the start of string, so this fails:\n",
    "match = re.search(r'^b\\w+', 'foobar') # not found, match == None\n",
    "display(match)\n",
    "\n",
    "## but without the ^ it succeeds:\n",
    "match = re.search(r'b\\w+', 'foobar') # found, match.group() == \"bar\"\n",
    "display(match)"
   ]
  },
  {
   "cell_type": "markdown",
   "metadata": {},
   "source": [
    "### Emails Example\n",
    "\n",
    "Suppose you want to find the email address inside the string 'xyz alice-b@google.com purple monkey'. We'll use this as a running example to demonstrate more regular expression features. Here's an attempt using the pattern r'\\w+@\\w+':"
   ]
  },
  {
   "cell_type": "code",
   "execution_count": null,
   "metadata": {},
   "outputs": [],
   "source": [
    "str = 'purple alice-b@google.com monkey dishwasher'\n",
    "match = re.search(r'\\w+@\\w+', str)\n",
    "if match:\n",
    "    print(match.group())  ## 'b@google'"
   ]
  },
  {
   "cell_type": "markdown",
   "metadata": {},
   "source": [
    "The search does not get the whole email address in this case because the \\w does not match the '-' or '.' in the address. We'll fix this using the regular expression features below."
   ]
  },
  {
   "cell_type": "markdown",
   "metadata": {},
   "source": [
    "## 1.4 Square Brackets\n",
    "\n",
    "Square brackets can be used to indicate a set of chars, so [abc] matches 'a' or 'b' or 'c'. The codes \\w, \\s etc. work inside square brackets too with the one exception that dot (.) just means a literal dot. For the emails problem, the square brackets are an easy way to add '.' and '-' to the set of chars which can appear around the @ with the pattern r'[\\w.-]+@[\\w.-]+' to get the whole email address:"
   ]
  },
  {
   "cell_type": "code",
   "execution_count": null,
   "metadata": {},
   "outputs": [],
   "source": [
    "match = re.search(r'[\\w.-]+@[\\w.-]+', str)\n",
    "if match:\n",
    "    print(match.group())  ## 'alice-b@google.com'"
   ]
  },
  {
   "cell_type": "markdown",
   "metadata": {},
   "source": [
    "(More square-bracket features) You can also use a dash to indicate a range, so [a-z] matches all lowercase letters. To use a dash without indicating a range, put the dash last, e.g. [abc-]. An up-hat (^) at the start of a square-bracket set inverts it, so [^ab] means any char except 'a' or 'b'."
   ]
  },
  {
   "cell_type": "markdown",
   "metadata": {},
   "source": [
    "## 1.5 Group Extraction\n",
    "\n",
    "The \"group\" feature of a regular expression allows you to pick out parts of the matching text. Suppose for the emails problem that we want to extract the username and host separately. To do this, add parenthesis ( ) around the username and host in the pattern, like this: r'([\\w.-]+)@([\\w.-]+)'. In this case, the parenthesis do not change what the pattern will match, instead they establish logical \"groups\" inside of the match text. On a successful search, match.group(1) is the match text corresponding to the 1st left parenthesis, and match.group(2) is the text corresponding to the 2nd left parenthesis. The plain match.group() is still the whole match text as usual."
   ]
  },
  {
   "cell_type": "code",
   "execution_count": null,
   "metadata": {},
   "outputs": [],
   "source": [
    "str = 'purple alice-b@google.com monkey dishwasher'\n",
    "match = re.search(r'([\\w.-]+)@([\\w.-]+)', str)\n",
    "if match:\n",
    "    print(match.group())   ## 'alice-b@google.com' (the whole match)\n",
    "    print(match.group(1))  ## 'alice-b' (the username, group 1)\n",
    "    print(match.group(2))  ## 'google.com' (the host, group 2)"
   ]
  },
  {
   "cell_type": "markdown",
   "metadata": {},
   "source": [
    "A common workflow with regular expressions is that you write a pattern for the thing you are looking for, adding parenthesis groups to extract the parts you want."
   ]
  },
  {
   "cell_type": "markdown",
   "metadata": {},
   "source": [
    "## 1.6 findall\n",
    "\n",
    "findall() is probably the single most powerful function in the re module. Above we used re.search() to find the first match for a pattern. findall() finds *all* the matches and returns them as a list of strings, with each string representing one match."
   ]
  },
  {
   "cell_type": "code",
   "execution_count": null,
   "metadata": {},
   "outputs": [],
   "source": [
    "## Suppose we have a text with many email addresses\n",
    "str = 'purple alice@google.com, blah monkey bob@abc.com blah dishwasher'\n",
    "\n",
    "## Here re.findall() returns a list of all the found email strings\n",
    "emails = re.findall(r'[\\w\\.-]+@[\\w\\.-]+', str) ## ['alice@google.com', 'bob@abc.com']\n",
    "for email in emails:\n",
    "    # do something with each found email string\n",
    "    print(email)"
   ]
  },
  {
   "cell_type": "markdown",
   "metadata": {},
   "source": [
    "## 1.7 findall With Files\n",
    "\n",
    "For files, you may be in the habit of writing a loop to iterate over the lines of the file, and you could then call findall() on each line. Instead, let findall() do the iteration for you -- much better! Just feed the whole file text into findall() and let it return a list of all the matches in a single step (recall that f.read() returns the whole text of a file in a single string):"
   ]
  },
  {
   "cell_type": "code",
   "execution_count": null,
   "metadata": {},
   "outputs": [],
   "source": [
    "# Open file\n",
    "f = open('./assets/test.txt', 'r')\n",
    "# Feed the file text into findall(); it returns a list of all the found strings\n",
    "strings = re.findall(r'some pattern', f.read())\n",
    "strings"
   ]
  },
  {
   "cell_type": "markdown",
   "metadata": {},
   "source": [
    "## 1.7 findall and Groups\n",
    "\n",
    "The parenthesis ( ) group mechanism can be combined with findall(). If the pattern includes 2 or more parenthesis groups, then instead of returning a list of strings, findall() returns a list of *tuples*. Each tuple represents one match of the pattern, and inside the tuple is the group(1), group(2) .. data. So if 2 parenthesis groups are added to the email pattern, then findall() returns a list of tuples, each length 2 containing the username and host, e.g. ('alice', 'google.com')."
   ]
  },
  {
   "cell_type": "code",
   "execution_count": null,
   "metadata": {},
   "outputs": [],
   "source": [
    "str = 'purple alice@google.com, blah monkey bob@abc.com blah dishwasher'\n",
    "tuples = re.findall(r'([\\w\\.-]+)@([\\w\\.-]+)', str)\n",
    "print(tuples)  ## [('alice', 'google.com'), ('bob', 'abc.com')]\n",
    "for tuple in tuples:\n",
    "    print(tuple[0])  ## username\n",
    "    print(tuple[1])  ## host"
   ]
  },
  {
   "cell_type": "code",
   "execution_count": null,
   "metadata": {},
   "outputs": [],
   "source": [
    "str = 'purple alice@google.com, blah monkey bob@abc.com blah dishwasher'\n",
    "strings = re.findall(r'[\\w\\.-]+@([\\w\\.-]+)', str)\n",
    "print(strings)  ## [('alice', 'google.com'), ('bob', 'abc.com')]\n",
    "for string in strings:\n",
    "    print(string[0])  ## username\n",
    "    print(string[1])  ## host"
   ]
  },
  {
   "cell_type": "markdown",
   "metadata": {},
   "source": [
    "Once you have the list of tuples, you can loop over it to do some computation for each tuple. If the pattern includes no parenthesis, then findall() returns a list of found strings as in earlier examples. If the pattern includes a single set of parenthesis, then findall() returns a list of strings corresponding to that single group. (Obscure optional feature: Sometimes you have paren ( ) groupings in the pattern, but which you do not want to extract. In that case, write the parens with a ?: at the start, e.g. (?: ) and that left paren will not count as a group result.)\n",
    "\n",
    "## 1.8 RE Workflow and Debug\n",
    "\n",
    "Regular expression patterns pack a lot of meaning into just a few characters , but they are so dense, you can spend a lot of time debugging your patterns. Set up your runtime so you can run a pattern and print what it matches easily, for example by running it on a small test text and printing the result of findall(). If the pattern matches nothing, try weakening the pattern, removing parts of it so you get too many matches. When it's matching nothing, you can't make any progress since there's nothing concrete to look at. Once it's matching too much, then you can work on tightening it up incrementally to hit just what you want."
   ]
  },
  {
   "cell_type": "markdown",
   "metadata": {},
   "source": [
    "## 1.9 Options\n",
    "\n",
    "The re functions take options to modify the behavior of the pattern match. The option flag is added as an extra argument to the search() or findall() etc., e.g. re.search(pat, str, re.IGNORECASE).\n",
    "\n",
    "- IGNORECASE -- ignore upper/lowercase differences for matching, so 'a' matches both 'a' and 'A'.\n",
    "\n",
    "- DOTALL -- allow dot (.) to match newline -- normally it matches anything but newline. This can trip you up -- you think .* matches everything, but by default it does not go past the end of a line. Note that \\s (whitespace) includes newlines, so if you want to match a run of whitespace that may include a newline, you can just use \\s*\n",
    "\n",
    "- MULTILINE -- Within a string made of many lines, allow \\^ and \\$ to match the start and end of each line. Normally \\^/\\$ would just match the start and end of the whole string.\n",
    "\n",
    "## 1.10 Grreedy vs. Non-Greedy (optional)\n",
    "\n",
    "This is optional section which shows a more advanced regular expression technique not needed for the exercises.\n",
    "\n",
    "Suppose you have text with tags in it: `<b>foo</b> and <i>so on</i>`\n",
    "\n",
    "Suppose you are trying to match each tag with the pattern '(<.*>)' -- what does it match first?\n",
    "\n",
    "The result is a little surprising, but the greedy aspect of the .* causes it to match the whole `<b>foo</b> and <i>so on</i>` as one big match. The problem is that the .* goes as far as is it can, instead of stopping at the first > (aka it is \"greedy\").\n",
    "\n",
    "There is an extension to regular expression where you add a ? at the end, such as .\\*? or .+?, changing them to be non-greedy. Now they stop as soon as they can. So the pattern '(<.\\*?>)' will get just `<b>` as the first match, and `</b>` as the second match, and so on getting each <..> pair in turn. The style is typically that you use a .\\*?, and then immediately its right look for some concrete marker (> in this case) that forces the end of the .*? run.\n",
    "\n",
    "The *? extension originated in Perl, and regular expressions that include Perl's extensions are known as Perl Compatible Regular Expressions -- pcre. Python includes pcre support. Many command line utils etc. have a flag where they accept pcre patterns.\n",
    "\n",
    "An older but widely used technique to code this idea of \"all of these chars except stopping at X\" uses the square-bracket style. For the above you could write the pattern, but instead of .\\* to get all the chars, use [^>]\\* which skips over all characters which are not > (the leading ^ \"inverts\" the square bracket set, so it matches any char not in the brackets)."
   ]
  },
  {
   "cell_type": "markdown",
   "metadata": {},
   "source": [
    "## 1.11 Substitution (optional)\n",
    "\n",
    "The re.sub(pat, replacement, str) function searches for all the instances of pattern in the given string, and replaces them. The replacement string can include '\\1', '\\2' which refer to the text from group(1), group(2), and so on from the original matching text.\n",
    "\n",
    "Here's an example which searches for all the email addresses, and changes them to keep the user (\\1) but have yo-yo-dyne.com as the host."
   ]
  },
  {
   "cell_type": "code",
   "execution_count": null,
   "metadata": {},
   "outputs": [],
   "source": [
    "str = 'purple alice@google.com, blah monkey bob@abc.com blah dishwasher'\n",
    "## re.sub(pat, replacement, str) -- returns new string with all replacements,\n",
    "## \\1 is group(1), \\2 group(2) in the replacement\n",
    "print(re.sub(r'([\\w\\.-]+)@([\\w\\.-]+)', r'\\1@yo-yo-dyne.com', str))\n",
    "## purple alice@yo-yo-dyne.com, blah monkey bob@yo-yo-dyne.com blah dishwasher"
   ]
  }
 ],
 "metadata": {
  "interpreter": {
   "hash": "fa0bcc37cb1d53a5ae18050bdae53d79e821dde74f36703fee7d6ffe11c2adc2"
  },
  "kernelspec": {
   "display_name": "Python 3.7.12 ('basicdl')",
   "language": "python",
   "name": "python3"
  },
  "language_info": {
   "codemirror_mode": {
    "name": "ipython",
    "version": 3
   },
   "file_extension": ".py",
   "mimetype": "text/x-python",
   "name": "python",
   "nbconvert_exporter": "python",
   "pygments_lexer": "ipython3",
   "version": "3.7.12"
  },
  "orig_nbformat": 4
 },
 "nbformat": 4,
 "nbformat_minor": 2
}
